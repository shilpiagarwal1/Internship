{
 "cells": [
  {
   "cell_type": "code",
   "execution_count": null,
   "metadata": {},
   "outputs": [],
   "source": [
    "##!pip install bs4\n",
    "##!pip install requests"
   ]
  },
  {
   "cell_type": "code",
   "execution_count": null,
   "metadata": {},
   "outputs": [],
   "source": [
    "from bs4 import BeautifulSoup"
   ]
  },
  {
   "cell_type": "code",
   "execution_count": null,
   "metadata": {},
   "outputs": [],
   "source": [
    "import requests"
   ]
  },
  {
   "cell_type": "markdown",
   "metadata": {},
   "source": [
    "# Answer no 1."
   ]
  },
  {
   "cell_type": "code",
   "execution_count": 572,
   "metadata": {},
   "outputs": [
    {
     "name": "stdout",
     "output_type": "stream",
     "text": [
      "h1 Home page\n",
      "h2 Website home page[edit]\n",
      "h2 Browser home page[edit]\n",
      "h2 References[edit]\n",
      "h2 Navigation menu\n",
      "h3 Personal tools\n",
      "h3 Namespaces\n",
      "h3 Variants\n",
      "h3 Views\n",
      "h3 More\n",
      "h3 Search\n",
      "h3 Navigation\n",
      "h3 Contribute\n",
      "h3 Tools\n",
      "h3 Print/export\n",
      "h3 In other projects\n",
      "h3 Languages\n"
     ]
    }
   ],
   "source": [
    "page=requests.get(\"https://en.wikipedia.org/wiki/Home_Page\")\n",
    "soup=BeautifulSoup(page.content)\n",
    "\n",
    "for heading in soup.find_all(['h1','h2','h3','h4','h5','h6']):\n",
    "\n",
    "     print(heading.name+ \" \" +heading.text.strip())"
   ]
  },
  {
   "cell_type": "code",
   "execution_count": null,
   "metadata": {},
   "outputs": [],
   "source": []
  },
  {
   "cell_type": "code",
   "execution_count": null,
   "metadata": {},
   "outputs": [],
   "source": []
  },
  {
   "cell_type": "markdown",
   "metadata": {},
   "source": [
    "# Answer2"
   ]
  },
  {
   "cell_type": "code",
   "execution_count": 614,
   "metadata": {},
   "outputs": [],
   "source": [
    "def getTopMovie(url,element,class1):\n",
    "    page=requests.get(url)\n",
    "    soup=BeautifulSoup(page.content)\n",
    "    Name=soup.find_all(element,class_=class1)\n",
    "    Name_list=[]\n",
    "    for i in Name:\n",
    "        Name_list.append(i.text.replace('\\n',''))\n",
    "\n",
    "    return Name_list[0:100]\n",
    "\n",
    "    "
   ]
  },
  {
   "cell_type": "code",
   "execution_count": 615,
   "metadata": {},
   "outputs": [],
   "source": [
    "import pandas as pd\n",
    "top_movie1=pd.DataFrame({})\n",
    "top_movie1['Name']=getTopMovie(\"https://www.imdb.com/chart/top/?ref_=nv_mv_250\",'td','titleColumn')\n",
    "top_movie1['Year']=getTopMovie(\"https://www.imdb.com/chart/top/?ref_=nv_mv_250\",'span','secondaryInfo')\n",
    "top_movie1['Rating']=getTopMovie(\"https://www.imdb.com/chart/top/?ref_=nv_mv_250\",'td','ratingColumn imdbRating')"
   ]
  },
  {
   "cell_type": "code",
   "execution_count": 616,
   "metadata": {},
   "outputs": [
    {
     "data": {
      "text/html": [
       "<div>\n",
       "<style scoped>\n",
       "    .dataframe tbody tr th:only-of-type {\n",
       "        vertical-align: middle;\n",
       "    }\n",
       "\n",
       "    .dataframe tbody tr th {\n",
       "        vertical-align: top;\n",
       "    }\n",
       "\n",
       "    .dataframe thead th {\n",
       "        text-align: right;\n",
       "    }\n",
       "</style>\n",
       "<table border=\"1\" class=\"dataframe\">\n",
       "  <thead>\n",
       "    <tr style=\"text-align: right;\">\n",
       "      <th></th>\n",
       "      <th>Name</th>\n",
       "      <th>Year</th>\n",
       "      <th>Rating</th>\n",
       "    </tr>\n",
       "  </thead>\n",
       "  <tbody>\n",
       "    <tr>\n",
       "      <th>0</th>\n",
       "      <td>1.      The Shawshank Redemption(1994)</td>\n",
       "      <td>(1994)</td>\n",
       "      <td>9.2</td>\n",
       "    </tr>\n",
       "    <tr>\n",
       "      <th>1</th>\n",
       "      <td>2.      The Godfather(1972)</td>\n",
       "      <td>(1972)</td>\n",
       "      <td>9.1</td>\n",
       "    </tr>\n",
       "    <tr>\n",
       "      <th>2</th>\n",
       "      <td>3.      The Godfather: Part II(1974)</td>\n",
       "      <td>(1974)</td>\n",
       "      <td>9.0</td>\n",
       "    </tr>\n",
       "    <tr>\n",
       "      <th>3</th>\n",
       "      <td>4.      The Dark Knight(2008)</td>\n",
       "      <td>(2008)</td>\n",
       "      <td>9.0</td>\n",
       "    </tr>\n",
       "    <tr>\n",
       "      <th>4</th>\n",
       "      <td>5.      12 Angry Men(1957)</td>\n",
       "      <td>(1957)</td>\n",
       "      <td>8.9</td>\n",
       "    </tr>\n",
       "    <tr>\n",
       "      <th>...</th>\n",
       "      <td>...</td>\n",
       "      <td>...</td>\n",
       "      <td>...</td>\n",
       "    </tr>\n",
       "    <tr>\n",
       "      <th>95</th>\n",
       "      <td>96.      Singin' in the Rain(1952)</td>\n",
       "      <td>(1952)</td>\n",
       "      <td>8.3</td>\n",
       "    </tr>\n",
       "    <tr>\n",
       "      <th>96</th>\n",
       "      <td>97.      North by Northwest(1959)</td>\n",
       "      <td>(1959)</td>\n",
       "      <td>8.3</td>\n",
       "    </tr>\n",
       "    <tr>\n",
       "      <th>97</th>\n",
       "      <td>98.      Eternal Sunshine of the Spotles...</td>\n",
       "      <td>(2004)</td>\n",
       "      <td>8.3</td>\n",
       "    </tr>\n",
       "    <tr>\n",
       "      <th>98</th>\n",
       "      <td>99.      Ladri di biciclette(1948)</td>\n",
       "      <td>(1948)</td>\n",
       "      <td>8.3</td>\n",
       "    </tr>\n",
       "    <tr>\n",
       "      <th>99</th>\n",
       "      <td>100.      Idi i smotri(1985)</td>\n",
       "      <td>(1985)</td>\n",
       "      <td>8.3</td>\n",
       "    </tr>\n",
       "  </tbody>\n",
       "</table>\n",
       "<p>100 rows × 3 columns</p>\n",
       "</div>"
      ],
      "text/plain": [
       "                                                 Name    Year Rating\n",
       "0              1.      The Shawshank Redemption(1994)  (1994)    9.2\n",
       "1                         2.      The Godfather(1972)  (1972)    9.1\n",
       "2                3.      The Godfather: Part II(1974)  (1974)    9.0\n",
       "3                       4.      The Dark Knight(2008)  (2008)    9.0\n",
       "4                          5.      12 Angry Men(1957)  (1957)    8.9\n",
       "..                                                ...     ...    ...\n",
       "95                 96.      Singin' in the Rain(1952)  (1952)    8.3\n",
       "96                  97.      North by Northwest(1959)  (1959)    8.3\n",
       "97        98.      Eternal Sunshine of the Spotles...  (2004)    8.3\n",
       "98                 99.      Ladri di biciclette(1948)  (1948)    8.3\n",
       "99                       100.      Idi i smotri(1985)  (1985)    8.3\n",
       "\n",
       "[100 rows x 3 columns]"
      ]
     },
     "execution_count": 616,
     "metadata": {},
     "output_type": "execute_result"
    }
   ],
   "source": [
    "top_movie1"
   ]
  },
  {
   "cell_type": "code",
   "execution_count": 617,
   "metadata": {},
   "outputs": [],
   "source": [
    " top_movie1.to_csv(\"Top_Movie.csv\")"
   ]
  },
  {
   "cell_type": "markdown",
   "metadata": {},
   "source": [
    "\n",
    "# Answer3"
   ]
  },
  {
   "cell_type": "code",
   "execution_count": 618,
   "metadata": {},
   "outputs": [],
   "source": [
    "def getIndianTopMovie(url,element,class1):\n",
    "    page=requests.get(url)\n",
    "    soup=BeautifulSoup(page.content)\n",
    "    movieName=soup.find_all(element,class_=class1)\n",
    "    IndianName_list=[]\n",
    "    for i in movieName:\n",
    "        IndianName_list.append(i.text.replace('\\n',''))\n",
    "\n",
    "    return IndianName_list[0:100]\n"
   ]
  },
  {
   "cell_type": "code",
   "execution_count": 619,
   "metadata": {},
   "outputs": [
    {
     "data": {
      "text/html": [
       "<div>\n",
       "<style scoped>\n",
       "    .dataframe tbody tr th:only-of-type {\n",
       "        vertical-align: middle;\n",
       "    }\n",
       "\n",
       "    .dataframe tbody tr th {\n",
       "        vertical-align: top;\n",
       "    }\n",
       "\n",
       "    .dataframe thead th {\n",
       "        text-align: right;\n",
       "    }\n",
       "</style>\n",
       "<table border=\"1\" class=\"dataframe\">\n",
       "  <thead>\n",
       "    <tr style=\"text-align: right;\">\n",
       "      <th></th>\n",
       "      <th>Indian Movie Name</th>\n",
       "      <th>Year</th>\n",
       "      <th>Rating</th>\n",
       "    </tr>\n",
       "  </thead>\n",
       "  <tbody>\n",
       "    <tr>\n",
       "      <th>0</th>\n",
       "      <td>1.      Pather Panchali(1955)</td>\n",
       "      <td>(1955)</td>\n",
       "      <td>8.5</td>\n",
       "    </tr>\n",
       "    <tr>\n",
       "      <th>1</th>\n",
       "      <td>2.      Nayakan(1987)</td>\n",
       "      <td>(1987)</td>\n",
       "      <td>8.5</td>\n",
       "    </tr>\n",
       "    <tr>\n",
       "      <th>2</th>\n",
       "      <td>3.      Gol Maal(1979)</td>\n",
       "      <td>(1979)</td>\n",
       "      <td>8.5</td>\n",
       "    </tr>\n",
       "    <tr>\n",
       "      <th>3</th>\n",
       "      <td>4.      Anbe Sivam(2003)</td>\n",
       "      <td>(2003)</td>\n",
       "      <td>8.5</td>\n",
       "    </tr>\n",
       "    <tr>\n",
       "      <th>4</th>\n",
       "      <td>5.      Apur Sansar(1959)</td>\n",
       "      <td>(1959)</td>\n",
       "      <td>8.5</td>\n",
       "    </tr>\n",
       "    <tr>\n",
       "      <th>...</th>\n",
       "      <td>...</td>\n",
       "      <td>...</td>\n",
       "      <td>...</td>\n",
       "    </tr>\n",
       "    <tr>\n",
       "      <th>95</th>\n",
       "      <td>96.      Chhichhore(2019)</td>\n",
       "      <td>(2019)</td>\n",
       "      <td>8.1</td>\n",
       "    </tr>\n",
       "    <tr>\n",
       "      <th>96</th>\n",
       "      <td>97.      Iqbal(2005)</td>\n",
       "      <td>(2005)</td>\n",
       "      <td>8.1</td>\n",
       "    </tr>\n",
       "    <tr>\n",
       "      <th>97</th>\n",
       "      <td>98.      Lucia(2013)</td>\n",
       "      <td>(2013)</td>\n",
       "      <td>8.0</td>\n",
       "    </tr>\n",
       "    <tr>\n",
       "      <th>98</th>\n",
       "      <td>99.      Bommarillu(2006)</td>\n",
       "      <td>(2006)</td>\n",
       "      <td>8.0</td>\n",
       "    </tr>\n",
       "    <tr>\n",
       "      <th>99</th>\n",
       "      <td>100.      The Legend of Bhagat Singh(2002)</td>\n",
       "      <td>(2002)</td>\n",
       "      <td>8.0</td>\n",
       "    </tr>\n",
       "  </tbody>\n",
       "</table>\n",
       "<p>100 rows × 3 columns</p>\n",
       "</div>"
      ],
      "text/plain": [
       "                                   Indian Movie Name    Year Rating\n",
       "0                      1.      Pather Panchali(1955)  (1955)    8.5\n",
       "1                              2.      Nayakan(1987)  (1987)    8.5\n",
       "2                             3.      Gol Maal(1979)  (1979)    8.5\n",
       "3                           4.      Anbe Sivam(2003)  (2003)    8.5\n",
       "4                          5.      Apur Sansar(1959)  (1959)    8.5\n",
       "..                                               ...     ...    ...\n",
       "95                         96.      Chhichhore(2019)  (2019)    8.1\n",
       "96                              97.      Iqbal(2005)  (2005)    8.1\n",
       "97                              98.      Lucia(2013)  (2013)    8.0\n",
       "98                         99.      Bommarillu(2006)  (2006)    8.0\n",
       "99        100.      The Legend of Bhagat Singh(2002)  (2002)    8.0\n",
       "\n",
       "[100 rows x 3 columns]"
      ]
     },
     "execution_count": 619,
     "metadata": {},
     "output_type": "execute_result"
    }
   ],
   "source": [
    "import pandas as pd\n",
    "indian_top_movie=pd.DataFrame({})\n",
    "indianName=getIndianTopMovie('https://www.imdb.com/india/top-rated-indian-movies/','td','titleColumn')\n",
    "indianYear=getIndianTopMovie('https://www.imdb.com/india/top-rated-indian-movies/','span','secondaryInfo')\n",
    "indianRating=getIndianTopMovie('https://www.imdb.com/india/top-rated-indian-movies/','td','ratingColumn imdbRating')\n",
    "indian_top_movie['Indian Movie Name']=indianName[0:100]\n",
    "indian_top_movie['Year']=indianYear[0:100]\n",
    "indian_top_movie['Rating']=indianRating[0:100]\n",
    "\n",
    "indian_top_movie"
   ]
  },
  {
   "cell_type": "code",
   "execution_count": 620,
   "metadata": {},
   "outputs": [],
   "source": [
    "indian_top_movie.to_csv('indian_top_movie.csv')"
   ]
  },
  {
   "cell_type": "code",
   "execution_count": null,
   "metadata": {},
   "outputs": [],
   "source": []
  },
  {
   "cell_type": "markdown",
   "metadata": {},
   "source": [
    "# Answer 4"
   ]
  },
  {
   "cell_type": "code",
   "execution_count": 621,
   "metadata": {},
   "outputs": [],
   "source": [
    "def getBookDetail(url,element,classname):\n",
    "    page=requests.get(url)\n",
    "    soup=BeautifulSoup(page.content)\n",
    "    Detail=soup.find_all(element,classname)\n",
    "    Detail_List=[]\n",
    "    for i in Detail:\n",
    "        Detail_List.append(i.text.replace('\\n',''))\n",
    "    return Detail_List[0:5]\n",
    "    "
   ]
  },
  {
   "cell_type": "code",
   "execution_count": 622,
   "metadata": {},
   "outputs": [],
   "source": [
    "def getReview(url):\n",
    "    review_list=[]\n",
    "    page=requests.get(url)\n",
    "    soup=BeautifulSoup(page.content)\n",
    "    for a in soup.find_all('div', {\"class\":\"read-full\"}):\n",
    "        for b in a.find_all('a'):\n",
    "            url_=b.get('href')\n",
    "            page1=requests.get(\"https://bookpage.com\"+url_)\n",
    "            soup1=BeautifulSoup(page1.content)\n",
    "            review=soup1.find_all('div','article-body')\n",
    "            review_list.append(review)\n",
    "    return review_list[0:5]"
   ]
  },
  {
   "cell_type": "code",
   "execution_count": 623,
   "metadata": {},
   "outputs": [
    {
     "data": {
      "text/html": [
       "<div>\n",
       "<style scoped>\n",
       "    .dataframe tbody tr th:only-of-type {\n",
       "        vertical-align: middle;\n",
       "    }\n",
       "\n",
       "    .dataframe tbody tr th {\n",
       "        vertical-align: top;\n",
       "    }\n",
       "\n",
       "    .dataframe thead th {\n",
       "        text-align: right;\n",
       "    }\n",
       "</style>\n",
       "<table border=\"1\" class=\"dataframe\">\n",
       "  <thead>\n",
       "    <tr style=\"text-align: right;\">\n",
       "      <th></th>\n",
       "      <th>Book Name</th>\n",
       "      <th>Author</th>\n",
       "      <th>Genre</th>\n",
       "      <th>Review</th>\n",
       "    </tr>\n",
       "  </thead>\n",
       "  <tbody>\n",
       "    <tr>\n",
       "      <th>0</th>\n",
       "      <td>★ People We Meet on Vacation</td>\n",
       "      <td>Emily Henry</td>\n",
       "      <td>Romance / Contemporary Romance</td>\n",
       "      <td>[[\\n, [\\n], [Emily Henry’s , &lt;strong&gt;People We...</td>\n",
       "    </tr>\n",
       "    <tr>\n",
       "      <th>1</th>\n",
       "      <td>Before I Saw You</td>\n",
       "      <td>Emily Houghton</td>\n",
       "      <td>Romance / Contemporary Romance</td>\n",
       "      <td>[[\\n, [\\n], [Emily Houghton’s , &lt;strong&gt;Before...</td>\n",
       "    </tr>\n",
       "    <tr>\n",
       "      <th>2</th>\n",
       "      <td>An Earl, the Girl, and a Toddler</td>\n",
       "      <td>Vanessa Riley</td>\n",
       "      <td>Romance / Historical Romance</td>\n",
       "      <td>[[\\n, [\\n], [The story starts with a tragedy. ...</td>\n",
       "    </tr>\n",
       "    <tr>\n",
       "      <th>3</th>\n",
       "      <td>To Love and to Loathe</td>\n",
       "      <td>Martha Waters</td>\n",
       "      <td>Romance / Historical Romance</td>\n",
       "      <td>[[\\n, [\\n], [Martha Waters is back with the se...</td>\n",
       "    </tr>\n",
       "    <tr>\n",
       "      <th>4</th>\n",
       "      <td>★ The Intimacy Experiment</td>\n",
       "      <td>Rosie Danan</td>\n",
       "      <td>Romance / Contemporary Romance</td>\n",
       "      <td>[[\\n, [\\n], [Rosie Danan returns with , &lt;stron...</td>\n",
       "    </tr>\n",
       "  </tbody>\n",
       "</table>\n",
       "</div>"
      ],
      "text/plain": [
       "                          Book Name          Author  \\\n",
       "0      ★ People We Meet on Vacation     Emily Henry   \n",
       "1                  Before I Saw You  Emily Houghton   \n",
       "2  An Earl, the Girl, and a Toddler   Vanessa Riley   \n",
       "3             To Love and to Loathe   Martha Waters   \n",
       "4         ★ The Intimacy Experiment     Rosie Danan   \n",
       "\n",
       "                            Genre  \\\n",
       "0  Romance / Contemporary Romance   \n",
       "1  Romance / Contemporary Romance   \n",
       "2    Romance / Historical Romance   \n",
       "3    Romance / Historical Romance   \n",
       "4  Romance / Contemporary Romance   \n",
       "\n",
       "                                              Review  \n",
       "0  [[\\n, [\\n], [Emily Henry’s , <strong>People We...  \n",
       "1  [[\\n, [\\n], [Emily Houghton’s , <strong>Before...  \n",
       "2  [[\\n, [\\n], [The story starts with a tragedy. ...  \n",
       "3  [[\\n, [\\n], [Martha Waters is back with the se...  \n",
       "4  [[\\n, [\\n], [Rosie Danan returns with , <stron...  "
      ]
     },
     "execution_count": 623,
     "metadata": {},
     "output_type": "execute_result"
    }
   ],
   "source": [
    "import pandas as pd\n",
    "Book_Detail=pd.DataFrame({})\n",
    "Namelist=getBookDetail('https://bookpage.com/reviews?book_genre=romance&page=1','h4','italic')\n",
    "author=getBookDetail('https://bookpage.com/reviews?book_genre=romance&page=1','p','sans bold')\n",
    "genre=getBookDetail('https://bookpage.com/reviews?book_genre=romance&page=1','p','genre-links hidden-phone')\n",
    "\n",
    "review=getReview('https://bookpage.com/reviews?book_genre=romance&page=1')\n",
    "\n",
    "Book_Detail['Book Name']=Namelist\n",
    "Book_Detail['Author']=author\n",
    "Book_Detail['Genre']=genre\n",
    "Book_Detail['Review']=review\n",
    "\n",
    "Book_Detail\n"
   ]
  },
  {
   "cell_type": "markdown",
   "metadata": {},
   "source": [
    "# Answer 5"
   ]
  },
  {
   "cell_type": "markdown",
   "metadata": {},
   "source": [
    "# 5.1"
   ]
  },
  {
   "cell_type": "code",
   "execution_count": 645,
   "metadata": {},
   "outputs": [],
   "source": [
    "def getMenTeam(url,element,classname):\n",
    "    page=requests.get(url)\n",
    "    soup=BeautifulSoup(page.content)\n",
    "    Detail=soup.find_all(element,classname)\n",
    "    Detail_List=[]\n",
    "    for i in Detail:\n",
    "        Detail_List.append(i.text.replace('\\n',''))\n",
    "    return Detail_List"
   ]
  },
  {
   "cell_type": "code",
   "execution_count": 646,
   "metadata": {},
   "outputs": [
    {
     "data": {
      "text/plain": [
       "['New Zealand',\n",
       " 'Australia',\n",
       " 'India',\n",
       " 'England',\n",
       " 'South Africa',\n",
       " 'Pakistan',\n",
       " 'Bangladesh',\n",
       " 'West Indies',\n",
       " 'Sri Lanka',\n",
       " 'Afghanistan']"
      ]
     },
     "execution_count": 646,
     "metadata": {},
     "output_type": "execute_result"
    }
   ],
   "source": [
    "team=getMenTeam(\"https://www.icc-cricket.com/rankings/mens/team-rankings/odi\",\"span\",\"u-hide-phablet\")\n",
    "team[0:10]"
   ]
  },
  {
   "cell_type": "code",
   "execution_count": null,
   "metadata": {},
   "outputs": [],
   "source": []
  },
  {
   "cell_type": "code",
   "execution_count": 647,
   "metadata": {},
   "outputs": [
    {
     "data": {
      "text/plain": [
       "['17']"
      ]
     },
     "execution_count": 647,
     "metadata": {},
     "output_type": "execute_result"
    }
   ],
   "source": [
    "\n",
    "matches=getMenTeam(\"https://www.icc-cricket.com/rankings/mens/team-rankings/odi\",\"td\",\"rankings-block__banner--matches\")\n",
    "matches"
   ]
  },
  {
   "cell_type": "code",
   "execution_count": 648,
   "metadata": {},
   "outputs": [
    {
     "data": {
      "text/plain": [
       "['2,054']"
      ]
     },
     "execution_count": 648,
     "metadata": {},
     "output_type": "execute_result"
    }
   ],
   "source": [
    "\n",
    "\n",
    "points=getMenTeam(\"https://www.icc-cricket.com/rankings/mens/team-rankings/odi\",\"td\",\"rankings-block__banner--points\")\n",
    "points"
   ]
  },
  {
   "cell_type": "code",
   "execution_count": 649,
   "metadata": {},
   "outputs": [
    {
     "data": {
      "text/plain": [
       "['                            121                            ']"
      ]
     },
     "execution_count": 649,
     "metadata": {},
     "output_type": "execute_result"
    }
   ],
   "source": [
    "rating=getMenTeam(\"https://www.icc-cricket.com/rankings/mens/team-rankings/odi\",\"td\",\"rankings-block__banner--rating u-text-right\")\n",
    "rating"
   ]
  },
  {
   "cell_type": "code",
   "execution_count": 650,
   "metadata": {},
   "outputs": [
    {
     "name": "stdout",
     "output_type": "stream",
     "text": [
      "matchlist ['25', '29', '27', '20', '24', '24', '27', '21', '17']\n",
      "point list ['2,945', '3,344', '3,100', '2,137', '2,323', '2,157', '2,222', '1,652', '1,054']\n"
     ]
    }
   ],
   "source": [
    "match=getMenTeam(\"https://www.icc-cricket.com/rankings/mens/team-rankings/odi\",\"td\",\"table-body__cell u-center-text\")\n",
    "#match[0:20]\n",
    "match1=[]\n",
    "point1=[]\n",
    "for i in range(0, len(match)):\n",
    "    if i % 2:\n",
    "        point1.append(match[i])\n",
    "    else :\n",
    "        match1.append(match[i]) \n",
    "print(\"matchlist\",match1[0:9])\n",
    "print(\"point list\",point1[0:9])"
   ]
  },
  {
   "cell_type": "code",
   "execution_count": null,
   "metadata": {},
   "outputs": [],
   "source": []
  },
  {
   "cell_type": "code",
   "execution_count": 651,
   "metadata": {},
   "outputs": [
    {
     "data": {
      "text/plain": [
       "['118', '115', '115', '107', '97', '90', '82', '79', '62', '50']"
      ]
     },
     "execution_count": 651,
     "metadata": {},
     "output_type": "execute_result"
    }
   ],
   "source": [
    "\n",
    "rate=getMenTeam(\"https://www.icc-cricket.com/rankings/mens/team-rankings/odi\",\"td\",\"table-body__cell u-text-right rating\")\n",
    "rate[0:10]"
   ]
  },
  {
   "cell_type": "code",
   "execution_count": 652,
   "metadata": {},
   "outputs": [
    {
     "data": {
      "text/html": [
       "<div>\n",
       "<style scoped>\n",
       "    .dataframe tbody tr th:only-of-type {\n",
       "        vertical-align: middle;\n",
       "    }\n",
       "\n",
       "    .dataframe tbody tr th {\n",
       "        vertical-align: top;\n",
       "    }\n",
       "\n",
       "    .dataframe thead th {\n",
       "        text-align: right;\n",
       "    }\n",
       "</style>\n",
       "<table border=\"1\" class=\"dataframe\">\n",
       "  <thead>\n",
       "    <tr style=\"text-align: right;\">\n",
       "      <th></th>\n",
       "      <th>Team</th>\n",
       "      <th>Matches</th>\n",
       "      <th>Points</th>\n",
       "      <th>Rating</th>\n",
       "    </tr>\n",
       "  </thead>\n",
       "  <tbody>\n",
       "    <tr>\n",
       "      <th>0</th>\n",
       "      <td>New Zealand</td>\n",
       "      <td>[17]</td>\n",
       "      <td>[2,054]</td>\n",
       "      <td>[                            121              ...</td>\n",
       "    </tr>\n",
       "    <tr>\n",
       "      <th>1</th>\n",
       "      <td>Australia</td>\n",
       "      <td>25</td>\n",
       "      <td>2,945</td>\n",
       "      <td>118</td>\n",
       "    </tr>\n",
       "    <tr>\n",
       "      <th>2</th>\n",
       "      <td>India</td>\n",
       "      <td>29</td>\n",
       "      <td>3,344</td>\n",
       "      <td>115</td>\n",
       "    </tr>\n",
       "    <tr>\n",
       "      <th>3</th>\n",
       "      <td>England</td>\n",
       "      <td>27</td>\n",
       "      <td>3,100</td>\n",
       "      <td>115</td>\n",
       "    </tr>\n",
       "    <tr>\n",
       "      <th>4</th>\n",
       "      <td>South Africa</td>\n",
       "      <td>20</td>\n",
       "      <td>2,137</td>\n",
       "      <td>107</td>\n",
       "    </tr>\n",
       "    <tr>\n",
       "      <th>5</th>\n",
       "      <td>Pakistan</td>\n",
       "      <td>24</td>\n",
       "      <td>2,323</td>\n",
       "      <td>97</td>\n",
       "    </tr>\n",
       "    <tr>\n",
       "      <th>6</th>\n",
       "      <td>Bangladesh</td>\n",
       "      <td>24</td>\n",
       "      <td>2,157</td>\n",
       "      <td>90</td>\n",
       "    </tr>\n",
       "    <tr>\n",
       "      <th>7</th>\n",
       "      <td>West Indies</td>\n",
       "      <td>27</td>\n",
       "      <td>2,222</td>\n",
       "      <td>82</td>\n",
       "    </tr>\n",
       "    <tr>\n",
       "      <th>8</th>\n",
       "      <td>Sri Lanka</td>\n",
       "      <td>21</td>\n",
       "      <td>1,652</td>\n",
       "      <td>79</td>\n",
       "    </tr>\n",
       "    <tr>\n",
       "      <th>9</th>\n",
       "      <td>Afghanistan</td>\n",
       "      <td>17</td>\n",
       "      <td>1,054</td>\n",
       "      <td>62</td>\n",
       "    </tr>\n",
       "  </tbody>\n",
       "</table>\n",
       "</div>"
      ],
      "text/plain": [
       "           Team Matches   Points  \\\n",
       "0   New Zealand    [17]  [2,054]   \n",
       "1     Australia      25    2,945   \n",
       "2         India      29    3,344   \n",
       "3       England      27    3,100   \n",
       "4  South Africa      20    2,137   \n",
       "5      Pakistan      24    2,323   \n",
       "6    Bangladesh      24    2,157   \n",
       "7   West Indies      27    2,222   \n",
       "8     Sri Lanka      21    1,652   \n",
       "9   Afghanistan      17    1,054   \n",
       "\n",
       "                                              Rating  \n",
       "0  [                            121              ...  \n",
       "1                                                118  \n",
       "2                                                115  \n",
       "3                                                115  \n",
       "4                                                107  \n",
       "5                                                 97  \n",
       "6                                                 90  \n",
       "7                                                 82  \n",
       "8                                                 79  \n",
       "9                                                 62  "
      ]
     },
     "execution_count": 652,
     "metadata": {},
     "output_type": "execute_result"
    }
   ],
   "source": [
    "import pandas as pd\n",
    "match_detail=pd.DataFrame({})\n",
    "match1.insert(0,matches)\n",
    "point1.insert(0,points)\n",
    "rate.insert(0,rating)\n",
    "match_detail['Team']=team[0:10]\n",
    "match_detail['Matches']=match1[0:10]\n",
    "match_detail['Points']=point1[0:10]\n",
    "match_detail['Rating']=rate[0:10]\n",
    "match_detail\n"
   ]
  },
  {
   "cell_type": "code",
   "execution_count": null,
   "metadata": {},
   "outputs": [],
   "source": []
  },
  {
   "cell_type": "code",
   "execution_count": null,
   "metadata": {},
   "outputs": [],
   "source": []
  },
  {
   "cell_type": "code",
   "execution_count": null,
   "metadata": {},
   "outputs": [],
   "source": []
  },
  {
   "cell_type": "code",
   "execution_count": null,
   "metadata": {},
   "outputs": [],
   "source": []
  },
  {
   "cell_type": "code",
   "execution_count": null,
   "metadata": {},
   "outputs": [],
   "source": []
  },
  {
   "cell_type": "markdown",
   "metadata": {},
   "source": [
    "# 5.2"
   ]
  },
  {
   "cell_type": "code",
   "execution_count": 653,
   "metadata": {},
   "outputs": [
    {
     "data": {
      "text/plain": [
       "'Babar Azam'"
      ]
     },
     "execution_count": 653,
     "metadata": {},
     "output_type": "execute_result"
    }
   ],
   "source": [
    "player=getMenTeam(\"https://www.icc-cricket.com/rankings/mens/player-rankings/odi\",\"div\",\"rankings-block__banner--name\")\n",
    "player[0]"
   ]
  },
  {
   "cell_type": "code",
   "execution_count": 654,
   "metadata": {},
   "outputs": [
    {
     "data": {
      "text/plain": [
       "'PAK'"
      ]
     },
     "execution_count": 654,
     "metadata": {},
     "output_type": "execute_result"
    }
   ],
   "source": [
    "first_team=[]\n",
    "nation=getMenTeam(\"https://www.icc-cricket.com/rankings/mens/player-rankings/odi\",\"div\",\"rankings-block__banner--nationality\")\n",
    "first_team=nation[0].split()[0]\n",
    "first_team"
   ]
  },
  {
   "cell_type": "code",
   "execution_count": 655,
   "metadata": {},
   "outputs": [
    {
     "data": {
      "text/plain": [
       "'865'"
      ]
     },
     "execution_count": 655,
     "metadata": {},
     "output_type": "execute_result"
    }
   ],
   "source": [
    "first_rating=[]\n",
    "first_rating=nation[0].split()[1]\n",
    "first_rating"
   ]
  },
  {
   "cell_type": "code",
   "execution_count": 656,
   "metadata": {},
   "outputs": [
    {
     "data": {
      "text/plain": [
       "['Babar Azam',\n",
       " 'Virat Kohli',\n",
       " 'Rohit Sharma',\n",
       " 'Ross Taylor',\n",
       " 'Aaron Finch',\n",
       " 'Jonny Bairstow',\n",
       " 'Fakhar Zaman',\n",
       " 'Francois du Plessis',\n",
       " 'David Warner',\n",
       " 'Shai Hope']"
      ]
     },
     "execution_count": 656,
     "metadata": {},
     "output_type": "execute_result"
    }
   ],
   "source": [
    "player1=getMenTeam(\"https://www.icc-cricket.com/rankings/mens/player-rankings/odi\",\"td\",\"table-body__cell name\")\n",
    "\n",
    "player1.insert(0,player[0])\n",
    "player1[0:10]"
   ]
  },
  {
   "cell_type": "code",
   "execution_count": 657,
   "metadata": {},
   "outputs": [
    {
     "data": {
      "text/plain": [
       "['PAK', 'IND', 'IND', 'NZ', 'AUS', 'ENG', 'PAK', 'SA', 'AUS', 'WI']"
      ]
     },
     "execution_count": 657,
     "metadata": {},
     "output_type": "execute_result"
    }
   ],
   "source": [
    "\n",
    "team=getMenTeam(\"https://www.icc-cricket.com/rankings/mens/player-rankings/odi\",\"span\",\"table-body__logo-text\")\n",
    "team.insert(0,first_team)\n",
    "team[0:10]"
   ]
  },
  {
   "cell_type": "code",
   "execution_count": 658,
   "metadata": {},
   "outputs": [
    {
     "data": {
      "text/plain": [
       "['865', '857', '825', '801', '791', '785', '778', '778', '773', '773']"
      ]
     },
     "execution_count": 658,
     "metadata": {},
     "output_type": "execute_result"
    }
   ],
   "source": [
    "\n",
    "\n",
    "rating=getMenTeam(\"https://www.icc-cricket.com/rankings/mens/player-rankings/odi\",\"td\",\"table-body__cell u-text-right rating\")\n",
    "rating.insert(0,first_rating)\n",
    "rating[0:10]"
   ]
  },
  {
   "cell_type": "code",
   "execution_count": 659,
   "metadata": {},
   "outputs": [
    {
     "data": {
      "text/html": [
       "<div>\n",
       "<style scoped>\n",
       "    .dataframe tbody tr th:only-of-type {\n",
       "        vertical-align: middle;\n",
       "    }\n",
       "\n",
       "    .dataframe tbody tr th {\n",
       "        vertical-align: top;\n",
       "    }\n",
       "\n",
       "    .dataframe thead th {\n",
       "        text-align: right;\n",
       "    }\n",
       "</style>\n",
       "<table border=\"1\" class=\"dataframe\">\n",
       "  <thead>\n",
       "    <tr style=\"text-align: right;\">\n",
       "      <th></th>\n",
       "      <th>Player</th>\n",
       "      <th>Team</th>\n",
       "      <th>Rating</th>\n",
       "    </tr>\n",
       "  </thead>\n",
       "  <tbody>\n",
       "    <tr>\n",
       "      <th>0</th>\n",
       "      <td>Babar Azam</td>\n",
       "      <td>PAK</td>\n",
       "      <td>865</td>\n",
       "    </tr>\n",
       "    <tr>\n",
       "      <th>1</th>\n",
       "      <td>Virat Kohli</td>\n",
       "      <td>IND</td>\n",
       "      <td>857</td>\n",
       "    </tr>\n",
       "    <tr>\n",
       "      <th>2</th>\n",
       "      <td>Rohit Sharma</td>\n",
       "      <td>IND</td>\n",
       "      <td>825</td>\n",
       "    </tr>\n",
       "    <tr>\n",
       "      <th>3</th>\n",
       "      <td>Ross Taylor</td>\n",
       "      <td>NZ</td>\n",
       "      <td>801</td>\n",
       "    </tr>\n",
       "    <tr>\n",
       "      <th>4</th>\n",
       "      <td>Aaron Finch</td>\n",
       "      <td>AUS</td>\n",
       "      <td>791</td>\n",
       "    </tr>\n",
       "    <tr>\n",
       "      <th>5</th>\n",
       "      <td>Jonny Bairstow</td>\n",
       "      <td>ENG</td>\n",
       "      <td>785</td>\n",
       "    </tr>\n",
       "    <tr>\n",
       "      <th>6</th>\n",
       "      <td>Fakhar Zaman</td>\n",
       "      <td>PAK</td>\n",
       "      <td>778</td>\n",
       "    </tr>\n",
       "    <tr>\n",
       "      <th>7</th>\n",
       "      <td>Francois du Plessis</td>\n",
       "      <td>SA</td>\n",
       "      <td>778</td>\n",
       "    </tr>\n",
       "    <tr>\n",
       "      <th>8</th>\n",
       "      <td>David Warner</td>\n",
       "      <td>AUS</td>\n",
       "      <td>773</td>\n",
       "    </tr>\n",
       "    <tr>\n",
       "      <th>9</th>\n",
       "      <td>Shai Hope</td>\n",
       "      <td>WI</td>\n",
       "      <td>773</td>\n",
       "    </tr>\n",
       "  </tbody>\n",
       "</table>\n",
       "</div>"
      ],
      "text/plain": [
       "                Player Team Rating\n",
       "0           Babar Azam  PAK    865\n",
       "1          Virat Kohli  IND    857\n",
       "2         Rohit Sharma  IND    825\n",
       "3          Ross Taylor   NZ    801\n",
       "4          Aaron Finch  AUS    791\n",
       "5       Jonny Bairstow  ENG    785\n",
       "6         Fakhar Zaman  PAK    778\n",
       "7  Francois du Plessis   SA    778\n",
       "8         David Warner  AUS    773\n",
       "9            Shai Hope   WI    773"
      ]
     },
     "execution_count": 659,
     "metadata": {},
     "output_type": "execute_result"
    }
   ],
   "source": [
    "import pandas as pd\n",
    "odi_batsmen=pd.DataFrame({})\n",
    "odi_batsmen['Player']=player1[0:10]\n",
    "odi_batsmen['Team']=team[0:10]\n",
    "odi_batsmen['Rating']=rating[0:10]\n",
    "odi_batsmen"
   ]
  },
  {
   "cell_type": "markdown",
   "metadata": {},
   "source": [
    "# 5.3"
   ]
  },
  {
   "cell_type": "code",
   "execution_count": 662,
   "metadata": {},
   "outputs": [
    {
     "data": {
      "text/plain": [
       "'Shakib Al Hasan'"
      ]
     },
     "execution_count": 662,
     "metadata": {},
     "output_type": "execute_result"
    }
   ],
   "source": [
    "player=getMenTeam(\"https://www.icc-cricket.com/rankings/mens/player-rankings/odi\",\"div\",\"rankings-block__banner--name\")\n",
    "player[2]"
   ]
  },
  {
   "cell_type": "code",
   "execution_count": 663,
   "metadata": {},
   "outputs": [
    {
     "data": {
      "text/plain": [
       "'BAN'"
      ]
     },
     "execution_count": 663,
     "metadata": {},
     "output_type": "execute_result"
    }
   ],
   "source": [
    "\n",
    "team1=getMenTeam(\"https://www.icc-cricket.com/rankings/mens/player-rankings/odi\",\"div\",\"rankings-block__banner--nationality\")\n",
    "\n",
    "first_team=team1[2].split()[0]\n",
    "first_team"
   ]
  },
  {
   "cell_type": "code",
   "execution_count": 664,
   "metadata": {},
   "outputs": [
    {
     "data": {
      "text/plain": [
       "'408'"
      ]
     },
     "execution_count": 664,
     "metadata": {},
     "output_type": "execute_result"
    }
   ],
   "source": [
    "rating1=team1[2].split()[1]\n",
    "rating1"
   ]
  },
  {
   "cell_type": "code",
   "execution_count": 665,
   "metadata": {},
   "outputs": [
    {
     "data": {
      "text/plain": [
       "['Shakib Al Hasan',\n",
       " 'Ben Stokes',\n",
       " 'Mohammad Nabi',\n",
       " 'Chris Woakes',\n",
       " 'Rashid Khan',\n",
       " 'Mitchell Santner',\n",
       " 'Imad Wasim',\n",
       " 'Colin de Grandhomme',\n",
       " 'Ravindra Jadeja',\n",
       " 'Sean Williams']"
      ]
     },
     "execution_count": 665,
     "metadata": {},
     "output_type": "execute_result"
    }
   ],
   "source": [
    "firstplayer=getMenTeam(\"https://www.icc-cricket.com/rankings/mens/player-rankings/odi\",\"td\",\"table-body__cell name\")\n",
    "fplayer=[]\n",
    "player[2]\n",
    "\n",
    "fplayer.append(player[2])\n",
    "\n",
    "fplayer.extend(firstplayer[18:27])\n",
    "fplayer"
   ]
  },
  {
   "cell_type": "code",
   "execution_count": null,
   "metadata": {},
   "outputs": [],
   "source": []
  },
  {
   "cell_type": "code",
   "execution_count": 666,
   "metadata": {},
   "outputs": [
    {
     "data": {
      "text/plain": [
       "['BAN', 'ENG', 'AFG', 'ENG', 'AFG', 'NZ', 'PAK', 'NZ', 'IND', 'ZIM']"
      ]
     },
     "execution_count": 666,
     "metadata": {},
     "output_type": "execute_result"
    }
   ],
   "source": [
    "\n",
    "teamnames=getMenTeam(\"https://www.icc-cricket.com/rankings/mens/player-rankings/odi\",\"span\",\"table-body__logo-text\")\n",
    "team_=[]\n",
    "team_.append(first_team)\n",
    "team_.extend(teamnames[45:54])\n",
    "team_"
   ]
  },
  {
   "cell_type": "code",
   "execution_count": 667,
   "metadata": {},
   "outputs": [
    {
     "data": {
      "text/plain": [
       "['408', '295', '294', '273', '270', '268', '263', '257', '245', '238']"
      ]
     },
     "execution_count": 667,
     "metadata": {},
     "output_type": "execute_result"
    }
   ],
   "source": [
    "\n",
    "ratings=getMenTeam(\"https://www.icc-cricket.com/rankings/mens/player-rankings/odi\",\"td\",\"table-body__cell u-text-right rating\")\n",
    "rating_=[]\n",
    "rating_.append(rating1)\n",
    "rating_.extend(ratings[45:54])\n",
    "rating_\n"
   ]
  },
  {
   "cell_type": "code",
   "execution_count": 668,
   "metadata": {},
   "outputs": [
    {
     "data": {
      "text/html": [
       "<div>\n",
       "<style scoped>\n",
       "    .dataframe tbody tr th:only-of-type {\n",
       "        vertical-align: middle;\n",
       "    }\n",
       "\n",
       "    .dataframe tbody tr th {\n",
       "        vertical-align: top;\n",
       "    }\n",
       "\n",
       "    .dataframe thead th {\n",
       "        text-align: right;\n",
       "    }\n",
       "</style>\n",
       "<table border=\"1\" class=\"dataframe\">\n",
       "  <thead>\n",
       "    <tr style=\"text-align: right;\">\n",
       "      <th></th>\n",
       "      <th>Player</th>\n",
       "      <th>Team</th>\n",
       "      <th>Rating</th>\n",
       "    </tr>\n",
       "  </thead>\n",
       "  <tbody>\n",
       "    <tr>\n",
       "      <th>0</th>\n",
       "      <td>Shakib Al Hasan</td>\n",
       "      <td>BAN</td>\n",
       "      <td>408</td>\n",
       "    </tr>\n",
       "    <tr>\n",
       "      <th>1</th>\n",
       "      <td>Ben Stokes</td>\n",
       "      <td>ENG</td>\n",
       "      <td>295</td>\n",
       "    </tr>\n",
       "    <tr>\n",
       "      <th>2</th>\n",
       "      <td>Mohammad Nabi</td>\n",
       "      <td>AFG</td>\n",
       "      <td>294</td>\n",
       "    </tr>\n",
       "    <tr>\n",
       "      <th>3</th>\n",
       "      <td>Chris Woakes</td>\n",
       "      <td>ENG</td>\n",
       "      <td>273</td>\n",
       "    </tr>\n",
       "    <tr>\n",
       "      <th>4</th>\n",
       "      <td>Rashid Khan</td>\n",
       "      <td>AFG</td>\n",
       "      <td>270</td>\n",
       "    </tr>\n",
       "    <tr>\n",
       "      <th>5</th>\n",
       "      <td>Mitchell Santner</td>\n",
       "      <td>NZ</td>\n",
       "      <td>268</td>\n",
       "    </tr>\n",
       "    <tr>\n",
       "      <th>6</th>\n",
       "      <td>Imad Wasim</td>\n",
       "      <td>PAK</td>\n",
       "      <td>263</td>\n",
       "    </tr>\n",
       "    <tr>\n",
       "      <th>7</th>\n",
       "      <td>Colin de Grandhomme</td>\n",
       "      <td>NZ</td>\n",
       "      <td>257</td>\n",
       "    </tr>\n",
       "    <tr>\n",
       "      <th>8</th>\n",
       "      <td>Ravindra Jadeja</td>\n",
       "      <td>IND</td>\n",
       "      <td>245</td>\n",
       "    </tr>\n",
       "    <tr>\n",
       "      <th>9</th>\n",
       "      <td>Sean Williams</td>\n",
       "      <td>ZIM</td>\n",
       "      <td>238</td>\n",
       "    </tr>\n",
       "  </tbody>\n",
       "</table>\n",
       "</div>"
      ],
      "text/plain": [
       "                Player Team Rating\n",
       "0      Shakib Al Hasan  BAN    408\n",
       "1           Ben Stokes  ENG    295\n",
       "2        Mohammad Nabi  AFG    294\n",
       "3         Chris Woakes  ENG    273\n",
       "4          Rashid Khan  AFG    270\n",
       "5     Mitchell Santner   NZ    268\n",
       "6           Imad Wasim  PAK    263\n",
       "7  Colin de Grandhomme   NZ    257\n",
       "8      Ravindra Jadeja  IND    245\n",
       "9        Sean Williams  ZIM    238"
      ]
     },
     "execution_count": 668,
     "metadata": {},
     "output_type": "execute_result"
    }
   ],
   "source": [
    "import pandas as pd\n",
    "allrounder=pd.DataFrame({})\n",
    "allrounder['Player']=fplayer\n",
    "\n",
    "allrounder['Team']=team_\n",
    "allrounder['Rating']=rating_\n",
    "allrounder"
   ]
  },
  {
   "cell_type": "code",
   "execution_count": null,
   "metadata": {},
   "outputs": [],
   "source": []
  },
  {
   "cell_type": "markdown",
   "metadata": {},
   "source": [
    "# 6.1"
   ]
  },
  {
   "cell_type": "code",
   "execution_count": 669,
   "metadata": {},
   "outputs": [],
   "source": [
    "def getWomenTeam(url,element,classname):\n",
    "    page=requests.get(url)\n",
    "    soup=BeautifulSoup(page.content)\n",
    "    Detail=soup.find_all(element,classname)\n",
    "    Detail_List=[]\n",
    "    for i in Detail:\n",
    "        Detail_List.append(i.text.replace('\\n',''))\n",
    "    return Detail_List[0:10]"
   ]
  },
  {
   "cell_type": "code",
   "execution_count": null,
   "metadata": {},
   "outputs": [],
   "source": []
  },
  {
   "cell_type": "code",
   "execution_count": null,
   "metadata": {},
   "outputs": [],
   "source": []
  },
  {
   "cell_type": "code",
   "execution_count": 670,
   "metadata": {},
   "outputs": [
    {
     "data": {
      "text/html": [
       "<div>\n",
       "<style scoped>\n",
       "    .dataframe tbody tr th:only-of-type {\n",
       "        vertical-align: middle;\n",
       "    }\n",
       "\n",
       "    .dataframe tbody tr th {\n",
       "        vertical-align: top;\n",
       "    }\n",
       "\n",
       "    .dataframe thead th {\n",
       "        text-align: right;\n",
       "    }\n",
       "</style>\n",
       "<table border=\"1\" class=\"dataframe\">\n",
       "  <thead>\n",
       "    <tr style=\"text-align: right;\">\n",
       "      <th></th>\n",
       "      <th>Team</th>\n",
       "      <th>Matches</th>\n",
       "      <th>Points</th>\n",
       "      <th>Ratings</th>\n",
       "    </tr>\n",
       "  </thead>\n",
       "  <tbody>\n",
       "    <tr>\n",
       "      <th>0</th>\n",
       "      <td>Australia</td>\n",
       "      <td>[18]</td>\n",
       "      <td>[2,955]</td>\n",
       "      <td>[                            164              ...</td>\n",
       "    </tr>\n",
       "    <tr>\n",
       "      <th>1</th>\n",
       "      <td>South Africa</td>\n",
       "      <td>24</td>\n",
       "      <td>2,828</td>\n",
       "      <td>118</td>\n",
       "    </tr>\n",
       "    <tr>\n",
       "      <th>2</th>\n",
       "      <td>England</td>\n",
       "      <td>17</td>\n",
       "      <td>1,993</td>\n",
       "      <td>117</td>\n",
       "    </tr>\n",
       "    <tr>\n",
       "      <th>3</th>\n",
       "      <td>India</td>\n",
       "      <td>20</td>\n",
       "      <td>2,226</td>\n",
       "      <td>111</td>\n",
       "    </tr>\n",
       "    <tr>\n",
       "      <th>4</th>\n",
       "      <td>New Zealand</td>\n",
       "      <td>21</td>\n",
       "      <td>1,947</td>\n",
       "      <td>93</td>\n",
       "    </tr>\n",
       "    <tr>\n",
       "      <th>5</th>\n",
       "      <td>West Indies</td>\n",
       "      <td>12</td>\n",
       "      <td>1,025</td>\n",
       "      <td>85</td>\n",
       "    </tr>\n",
       "    <tr>\n",
       "      <th>6</th>\n",
       "      <td>Pakistan</td>\n",
       "      <td>15</td>\n",
       "      <td>1,101</td>\n",
       "      <td>73</td>\n",
       "    </tr>\n",
       "    <tr>\n",
       "      <th>7</th>\n",
       "      <td>Bangladesh</td>\n",
       "      <td>5</td>\n",
       "      <td>306</td>\n",
       "      <td>61</td>\n",
       "    </tr>\n",
       "    <tr>\n",
       "      <th>8</th>\n",
       "      <td>Sri Lanka</td>\n",
       "      <td>11</td>\n",
       "      <td>519</td>\n",
       "      <td>47</td>\n",
       "    </tr>\n",
       "    <tr>\n",
       "      <th>9</th>\n",
       "      <td>Ireland</td>\n",
       "      <td>2</td>\n",
       "      <td>25</td>\n",
       "      <td>13</td>\n",
       "    </tr>\n",
       "  </tbody>\n",
       "</table>\n",
       "</div>"
      ],
      "text/plain": [
       "           Team Matches   Points  \\\n",
       "0     Australia    [18]  [2,955]   \n",
       "1  South Africa      24    2,828   \n",
       "2       England      17    1,993   \n",
       "3         India      20    2,226   \n",
       "4   New Zealand      21    1,947   \n",
       "5   West Indies      12    1,025   \n",
       "6      Pakistan      15    1,101   \n",
       "7    Bangladesh       5      306   \n",
       "8     Sri Lanka      11      519   \n",
       "9       Ireland       2       25   \n",
       "\n",
       "                                             Ratings  \n",
       "0  [                            164              ...  \n",
       "1                                                118  \n",
       "2                                                117  \n",
       "3                                                111  \n",
       "4                                                 93  \n",
       "5                                                 85  \n",
       "6                                                 73  \n",
       "7                                                 61  \n",
       "8                                                 47  \n",
       "9                                                 13  "
      ]
     },
     "execution_count": 670,
     "metadata": {},
     "output_type": "execute_result"
    }
   ],
   "source": [
    "import pandas as pd\n",
    "Team_Women=pd.DataFrame({})\n",
    "team=getWomenTeam('https://www.icc-cricket.com/rankings/womens/team-rankings/odi','span','u-hide-phablet')\n",
    "\n",
    "first_matches=getWomenTeam('https://www.icc-cricket.com/rankings/womens/team-rankings/odi','td','rankings-block__banner--matches')\n",
    "##first_points=getWomenTeam('https://www.icc-cricket.com/rankings/womens/team-rankings/odi','td','rankings-block__banner--points')\n",
    "first_ratings=getWomenTeam('https://www.icc-cricket.com/rankings/womens/team-rankings/odi','td','rankings-block__banner--rating u-text-right')\n",
    "#print(first_ratings)\n",
    "\n",
    "    \n",
    "matches_list=[]\n",
    "##matches_list.append(first_matches)\n",
    "\n",
    "rating_list=[]\n",
    "rating_list.append(first_ratings)\n",
    "\n",
    "ML=[]\n",
    "PL=[]\n",
    "page=requests.get('https://www.icc-cricket.com/rankings/womens/team-rankings/odi')\n",
    "soup=BeautifulSoup(page.content)\n",
    "for a in soup.find_all('tr', {\"class\":\"table-body\"}):\n",
    "        for b in a.find_all('td', {\"class\":\"table-body__cell u-center-text\"}):\n",
    "            #print(b.getText())\n",
    "            matches=b.getText()\n",
    "            matches_list.append(matches)\n",
    "            \n",
    "        for c in a.find_all('td', {\"class\":\"table-body__cell u-text-right rating\"}):\n",
    "            #print(c.getText())\n",
    "            rating_list.append(c.getText())\n",
    "\n",
    "\n",
    "##print(\"Full: \" + str(matches_list))        \n",
    "for i in range(0, len(matches_list)):\n",
    "    if i % 2:\n",
    "        ML.append(matches_list[i])\n",
    "    else :\n",
    "        PL.append(matches_list[i]) \n",
    "\n",
    "#matches_list\n",
    "#rating_list\n",
    "ML\n",
    "PL\n",
    "\n",
    "PL.insert(0,first_matches)\n",
    "ML.insert(0,first_points)\n",
    "##print(\"Seprated even  index list: \" + str(PL))\n",
    "\n",
    "\n",
    "Team_Women['Team']=team\n",
    "Team_Women['Matches']=PL\n",
    "Team_Women['Points']=ML\n",
    "Team_Women['Ratings']=rating_list\n",
    "Team_Women"
   ]
  },
  {
   "cell_type": "code",
   "execution_count": null,
   "metadata": {},
   "outputs": [],
   "source": []
  },
  {
   "cell_type": "code",
   "execution_count": null,
   "metadata": {},
   "outputs": [],
   "source": []
  },
  {
   "cell_type": "markdown",
   "metadata": {},
   "source": [
    "# Answer 6.2"
   ]
  },
  {
   "cell_type": "code",
   "execution_count": null,
   "metadata": {},
   "outputs": [],
   "source": []
  },
  {
   "cell_type": "code",
   "execution_count": 673,
   "metadata": {},
   "outputs": [
    {
     "data": {
      "text/plain": [
       "'Tammy Beaumont'"
      ]
     },
     "execution_count": 673,
     "metadata": {},
     "output_type": "execute_result"
    }
   ],
   "source": [
    "firstName=getWomenTeam('https://www.icc-cricket.com/rankings/womens/player-rankings/odi','div','rankings-block__banner--name')\n",
    "firstName[0]"
   ]
  },
  {
   "cell_type": "code",
   "execution_count": 674,
   "metadata": {},
   "outputs": [
    {
     "name": "stdout",
     "output_type": "stream",
     "text": [
      "ENG\n",
      "765\n"
     ]
    }
   ],
   "source": [
    "firstTeam=getWomenTeam('https://www.icc-cricket.com/rankings/womens/player-rankings/odi','div','rankings-block__banner--nationality')\n",
    "firstTeam[0].split()\n",
    "team1=firstTeam[0].split()[0]\n",
    "rating1=firstTeam[0].split()[1]\n",
    "print(team1)\n",
    "print(rating1)"
   ]
  },
  {
   "cell_type": "code",
   "execution_count": 675,
   "metadata": {},
   "outputs": [
    {
     "data": {
      "text/plain": [
       "['Lizelle Lee',\n",
       " 'Alyssa Healy',\n",
       " 'Stafanie Taylor',\n",
       " 'Meg Lanning',\n",
       " 'Amy Satterthwaite',\n",
       " 'Smriti Mandhana',\n",
       " 'Mithali Raj',\n",
       " 'Natalie Sciver',\n",
       " 'Laura Wolvaardt',\n",
       " 'Megan Schutt']"
      ]
     },
     "execution_count": 675,
     "metadata": {},
     "output_type": "execute_result"
    }
   ],
   "source": [
    "\n",
    "Name1=getWomenTeam('https://www.icc-cricket.com/rankings/womens/player-rankings/odi','td','table-body__cell name')\n",
    "Name1"
   ]
  },
  {
   "cell_type": "code",
   "execution_count": 676,
   "metadata": {},
   "outputs": [
    {
     "data": {
      "text/plain": [
       "['SA', 'AUS', 'WI', 'AUS', 'NZ', 'IND', 'IND', 'ENG', 'SA', 'AUS']"
      ]
     },
     "execution_count": 676,
     "metadata": {},
     "output_type": "execute_result"
    }
   ],
   "source": [
    "\n",
    "team_name=getWomenTeam('https://www.icc-cricket.com/rankings/womens/player-rankings/odi','span','table-body__logo-text')\n",
    "team_name"
   ]
  },
  {
   "cell_type": "code",
   "execution_count": 677,
   "metadata": {},
   "outputs": [
    {
     "data": {
      "text/plain": [
       "['758', '756', '746', '723', '715', '710', '709', '685', '683', '762']"
      ]
     },
     "execution_count": 677,
     "metadata": {},
     "output_type": "execute_result"
    }
   ],
   "source": [
    "\n",
    "rating=getWomenTeam('https://www.icc-cricket.com/rankings/womens/player-rankings/odi','td',\"table-body__cell u-text-right rating\")\n",
    "rating"
   ]
  },
  {
   "cell_type": "code",
   "execution_count": 678,
   "metadata": {},
   "outputs": [],
   "source": [
    "Name1.insert(0,firstName[0])"
   ]
  },
  {
   "cell_type": "code",
   "execution_count": 679,
   "metadata": {},
   "outputs": [
    {
     "data": {
      "text/plain": [
       "['Tammy Beaumont',\n",
       " 'Lizelle Lee',\n",
       " 'Alyssa Healy',\n",
       " 'Stafanie Taylor',\n",
       " 'Meg Lanning',\n",
       " 'Amy Satterthwaite',\n",
       " 'Smriti Mandhana',\n",
       " 'Mithali Raj',\n",
       " 'Natalie Sciver',\n",
       " 'Laura Wolvaardt',\n",
       " 'Megan Schutt']"
      ]
     },
     "execution_count": 679,
     "metadata": {},
     "output_type": "execute_result"
    }
   ],
   "source": [
    "Name1"
   ]
  },
  {
   "cell_type": "code",
   "execution_count": 680,
   "metadata": {},
   "outputs": [
    {
     "data": {
      "text/plain": [
       "['SA', 'AUS', 'WI', 'AUS', 'NZ', 'IND', 'IND', 'ENG', 'SA', 'AUS']"
      ]
     },
     "execution_count": 680,
     "metadata": {},
     "output_type": "execute_result"
    }
   ],
   "source": [
    "team_name"
   ]
  },
  {
   "cell_type": "code",
   "execution_count": 681,
   "metadata": {},
   "outputs": [],
   "source": [
    "team_name.insert(0,team1)"
   ]
  },
  {
   "cell_type": "code",
   "execution_count": 682,
   "metadata": {},
   "outputs": [],
   "source": [
    "rating.insert(0,rating1)"
   ]
  },
  {
   "cell_type": "code",
   "execution_count": 683,
   "metadata": {},
   "outputs": [
    {
     "data": {
      "text/html": [
       "<div>\n",
       "<style scoped>\n",
       "    .dataframe tbody tr th:only-of-type {\n",
       "        vertical-align: middle;\n",
       "    }\n",
       "\n",
       "    .dataframe tbody tr th {\n",
       "        vertical-align: top;\n",
       "    }\n",
       "\n",
       "    .dataframe thead th {\n",
       "        text-align: right;\n",
       "    }\n",
       "</style>\n",
       "<table border=\"1\" class=\"dataframe\">\n",
       "  <thead>\n",
       "    <tr style=\"text-align: right;\">\n",
       "      <th></th>\n",
       "      <th>Player Name</th>\n",
       "      <th>Team</th>\n",
       "      <th>Rating</th>\n",
       "    </tr>\n",
       "  </thead>\n",
       "  <tbody>\n",
       "    <tr>\n",
       "      <th>0</th>\n",
       "      <td>Tammy Beaumont</td>\n",
       "      <td>ENG</td>\n",
       "      <td>765</td>\n",
       "    </tr>\n",
       "    <tr>\n",
       "      <th>1</th>\n",
       "      <td>Lizelle Lee</td>\n",
       "      <td>SA</td>\n",
       "      <td>758</td>\n",
       "    </tr>\n",
       "    <tr>\n",
       "      <th>2</th>\n",
       "      <td>Alyssa Healy</td>\n",
       "      <td>AUS</td>\n",
       "      <td>756</td>\n",
       "    </tr>\n",
       "    <tr>\n",
       "      <th>3</th>\n",
       "      <td>Stafanie Taylor</td>\n",
       "      <td>WI</td>\n",
       "      <td>746</td>\n",
       "    </tr>\n",
       "    <tr>\n",
       "      <th>4</th>\n",
       "      <td>Meg Lanning</td>\n",
       "      <td>AUS</td>\n",
       "      <td>723</td>\n",
       "    </tr>\n",
       "    <tr>\n",
       "      <th>5</th>\n",
       "      <td>Amy Satterthwaite</td>\n",
       "      <td>NZ</td>\n",
       "      <td>715</td>\n",
       "    </tr>\n",
       "    <tr>\n",
       "      <th>6</th>\n",
       "      <td>Smriti Mandhana</td>\n",
       "      <td>IND</td>\n",
       "      <td>710</td>\n",
       "    </tr>\n",
       "    <tr>\n",
       "      <th>7</th>\n",
       "      <td>Mithali Raj</td>\n",
       "      <td>IND</td>\n",
       "      <td>709</td>\n",
       "    </tr>\n",
       "    <tr>\n",
       "      <th>8</th>\n",
       "      <td>Natalie Sciver</td>\n",
       "      <td>ENG</td>\n",
       "      <td>685</td>\n",
       "    </tr>\n",
       "    <tr>\n",
       "      <th>9</th>\n",
       "      <td>Laura Wolvaardt</td>\n",
       "      <td>SA</td>\n",
       "      <td>683</td>\n",
       "    </tr>\n",
       "  </tbody>\n",
       "</table>\n",
       "</div>"
      ],
      "text/plain": [
       "         Player Name Team Rating\n",
       "0     Tammy Beaumont  ENG    765\n",
       "1        Lizelle Lee   SA    758\n",
       "2       Alyssa Healy  AUS    756\n",
       "3    Stafanie Taylor   WI    746\n",
       "4        Meg Lanning  AUS    723\n",
       "5  Amy Satterthwaite   NZ    715\n",
       "6    Smriti Mandhana  IND    710\n",
       "7        Mithali Raj  IND    709\n",
       "8     Natalie Sciver  ENG    685\n",
       "9    Laura Wolvaardt   SA    683"
      ]
     },
     "execution_count": 683,
     "metadata": {},
     "output_type": "execute_result"
    }
   ],
   "source": [
    "import pandas as pd\n",
    "women_team=pd.DataFrame({})\n",
    "women_team['Player Name']=Name1[0:10]\n",
    "women_team['Team']=team_name[0:10]\n",
    "women_team['Rating']=rating[0:10]\n",
    "women_team"
   ]
  },
  {
   "cell_type": "code",
   "execution_count": null,
   "metadata": {},
   "outputs": [],
   "source": []
  },
  {
   "cell_type": "markdown",
   "metadata": {},
   "source": [
    "# Answer6.3"
   ]
  },
  {
   "cell_type": "code",
   "execution_count": 684,
   "metadata": {},
   "outputs": [
    {
     "data": {
      "text/plain": [
       "'Marizanne Kapp'"
      ]
     },
     "execution_count": 684,
     "metadata": {},
     "output_type": "execute_result"
    }
   ],
   "source": [
    "firstPlayerName=getWomenTeam('https://www.icc-cricket.com/rankings/womens/player-rankings/odi','div','rankings-block__banner--name')\n",
    "firstPlayerName[2]"
   ]
  },
  {
   "cell_type": "code",
   "execution_count": 685,
   "metadata": {},
   "outputs": [
    {
     "name": "stdout",
     "output_type": "stream",
     "text": [
      "SA\n",
      "418\n"
     ]
    }
   ],
   "source": [
    "\n",
    "firstPlayerTeam=getWomenTeam('https://www.icc-cricket.com/rankings/womens/player-rankings/odi','div','rankings-block__banner--nationality')\n",
    "firstPlayerTeam[2]\n",
    "team=firstPlayerTeam[2].split()[0]\n",
    "rating=firstPlayerTeam[2].split()[1]\n",
    "print(team)\n",
    "print(rating)"
   ]
  },
  {
   "cell_type": "code",
   "execution_count": 686,
   "metadata": {},
   "outputs": [
    {
     "data": {
      "text/plain": [
       "['Lizelle Lee',\n",
       " 'Alyssa Healy',\n",
       " 'Stafanie Taylor',\n",
       " 'Meg Lanning',\n",
       " 'Amy Satterthwaite',\n",
       " 'Smriti Mandhana',\n",
       " 'Mithali Raj',\n",
       " 'Natalie Sciver',\n",
       " 'Laura Wolvaardt',\n",
       " 'Megan Schutt']"
      ]
     },
     "execution_count": 686,
     "metadata": {},
     "output_type": "execute_result"
    }
   ],
   "source": [
    "PlayerName=getWomenTeam('https://www.icc-cricket.com/rankings/womens/player-rankings/odi','td','table-body__cell name')\n",
    "PlayerName"
   ]
  },
  {
   "cell_type": "code",
   "execution_count": 687,
   "metadata": {},
   "outputs": [
    {
     "data": {
      "text/plain": [
       "['SA', 'AUS', 'WI', 'AUS', 'NZ', 'IND', 'IND', 'ENG', 'SA', 'AUS']"
      ]
     },
     "execution_count": 687,
     "metadata": {},
     "output_type": "execute_result"
    }
   ],
   "source": [
    "teamName=getWomenTeam('https://www.icc-cricket.com/rankings/womens/player-rankings/odi','span',\"table-body__logo-text\")\n",
    "teamName"
   ]
  },
  {
   "cell_type": "code",
   "execution_count": 688,
   "metadata": {},
   "outputs": [
    {
     "data": {
      "text/plain": [
       "['758', '756', '746', '723', '715', '710', '709', '685', '683', '762']"
      ]
     },
     "execution_count": 688,
     "metadata": {},
     "output_type": "execute_result"
    }
   ],
   "source": [
    "rating=getWomenTeam('https://www.icc-cricket.com/rankings/womens/player-rankings/odi','td',\"table-body__cell u-text-right rating\")\n",
    "rating"
   ]
  },
  {
   "cell_type": "code",
   "execution_count": null,
   "metadata": {},
   "outputs": [],
   "source": []
  },
  {
   "cell_type": "code",
   "execution_count": null,
   "metadata": {},
   "outputs": [],
   "source": []
  },
  {
   "cell_type": "markdown",
   "metadata": {},
   "source": [
    "# Answer No 7"
   ]
  },
  {
   "cell_type": "code",
   "execution_count": null,
   "metadata": {},
   "outputs": [],
   "source": []
  },
  {
   "cell_type": "code",
   "execution_count": null,
   "metadata": {},
   "outputs": [],
   "source": []
  },
  {
   "cell_type": "code",
   "execution_count": 602,
   "metadata": {},
   "outputs": [],
   "source": [
    "def getProduct(url,element,classname):\n",
    "    page=requests.get(url)\n",
    "    soup=BeautifulSoup(page.content)\n",
    "    Detail=soup.find_all(element,classname)\n",
    "    Detail_List=[]\n",
    "    for i in Detail:\n",
    "        Detail_List.append(i.text)\n",
    "    return Detail_List[0:10]\n",
    "    "
   ]
  },
  {
   "cell_type": "code",
   "execution_count": 612,
   "metadata": {},
   "outputs": [
    {
     "data": {
      "text/plain": [
       "['Redmi 9 (Sky Blue, 4GB RAM, 64GB Storage)| 5000 mAh| 2.3GHz Mediatek Helio G35 Octa core Processor',\n",
       " 'Redmi 9A (Nature Green, 2GB Ram, 32GB Storage) | 2GHz Octa-core Helio G25 Processor',\n",
       " 'Oppo A31 (Mystery Black, 6GB RAM, 128GB Storage) with No Cost EMI/Additional Exchange Offers',\n",
       " 'Oppo A31 (Fantasy White, 6GB RAM, 128GB Storage) with No Cost EMI/Additional Exchange Offers',\n",
       " 'Vivo Y91i (Fusion Black, 2GB RAM, 32GB Storage) with No Cost EMI/Additional Exchange Offers',\n",
       " 'Redmi 9A (Midnight Black, 3GB Ram, 32GB Storage) | 2GHz Octa-core Helio G25 Processor',\n",
       " 'OPPO A31 (Fantasy White, 4GB RAM, 64GB Storage) with No Cost EMI/Additional Exchange Offers',\n",
       " 'Samsung Galaxy M31 (Ocean Blue, 6GB RAM, 128GB Storage)',\n",
       " 'Samsung Galaxy M12 (Blue,4GB RAM, 64GB Storage) 6000 mAh with 8nm Processor | True 48 MP Quad Camera | 90Hz Refresh Rate',\n",
       " 'Redmi 9 Power (Mighty Black, 6GB RAM, 128GB Storage) - 6000mAh Battery |FHD+ Screen| 48MP Quad Camera | Snapdragon 662 Processor']"
      ]
     },
     "execution_count": 612,
     "metadata": {},
     "output_type": "execute_result"
    }
   ],
   "source": [
    "product1=getProduct('https://www.amazon.in/s?k=mobile+under+20000&ref=nb_sb_noss_1',\"span\",\"a-size-medium a-color-base a-text-normal\")\n",
    "product1"
   ]
  },
  {
   "cell_type": "code",
   "execution_count": null,
   "metadata": {},
   "outputs": [],
   "source": []
  },
  {
   "cell_type": "code",
   "execution_count": 586,
   "metadata": {},
   "outputs": [
    {
     "data": {
      "text/plain": [
       "['₹8,799',\n",
       " '₹10,999',\n",
       " '₹6,799',\n",
       " '₹8,499',\n",
       " '₹11,990',\n",
       " '₹15,990',\n",
       " '₹11,990',\n",
       " '₹15,990',\n",
       " '₹7,490',\n",
       " '₹9,990']"
      ]
     },
     "execution_count": 586,
     "metadata": {},
     "output_type": "execute_result"
    }
   ],
   "source": [
    "price=getProduct('https://www.amazon.in/s?k=mobile+under+20000&ref=nb_sb_noss_1','span','a-offscreen')\n",
    "price"
   ]
  },
  {
   "cell_type": "code",
   "execution_count": 606,
   "metadata": {},
   "outputs": [
    {
     "data": {
      "text/plain": [
       "['https://m.media-amazon.com/images/I/71A9Vo1BatL._AC_UY218_.jpg',\n",
       " 'https://m.media-amazon.com/images/I/71sxlhYhKWL._AC_UY218_.jpg',\n",
       " 'https://m.media-amazon.com/images/I/71KCwNV6MuL._AC_UY218_.jpg',\n",
       " 'https://m.media-amazon.com/images/I/61IhTtJUXJL._AC_UY218_.jpg',\n",
       " 'https://m.media-amazon.com/images/I/51ZoulFBPGL._AC_UY218_.jpg',\n",
       " 'https://m.media-amazon.com/images/I/71sxlhYhKWL._AC_UY218_.jpg',\n",
       " 'https://m.media-amazon.com/images/I/61IhTtJUXJL._AC_UY218_.jpg',\n",
       " 'https://m.media-amazon.com/images/I/71-Su4Wr0HL._AC_UY218_.jpg',\n",
       " 'https://m.media-amazon.com/images/I/71yYaNztZ0L._AC_UY218_.jpg',\n",
       " 'https://m.media-amazon.com/images/I/61LHaUOhehL._AC_UY218_.jpg',\n",
       " 'https://m.media-amazon.com/images/I/71X5I1cVfbL._AC_UY218_.jpg',\n",
       " 'https://m.media-amazon.com/images/I/71dujTTJDZL._AC_UY218_.jpg',\n",
       " 'https://m.media-amazon.com/images/I/71BFG8Zu7zL._AC_UY218_.jpg',\n",
       " 'https://m.media-amazon.com/images/I/715t-uJnjMS._AC_UY218_.jpg',\n",
       " 'https://m.media-amazon.com/images/I/71OxJeyywSL._AC_UY218_.jpg',\n",
       " 'https://m.media-amazon.com/images/I/41QsvcpKaZL._AC_UY218_.jpg']"
      ]
     },
     "execution_count": 606,
     "metadata": {},
     "output_type": "execute_result"
    }
   ],
   "source": [
    "image_list=[]\n",
    "\n",
    "page=requests.get('https://www.amazon.in/s?k=mobile+under+20000&ref=nb_sb_noss_1')\n",
    "soup=BeautifulSoup(page.content)\n",
    "for a in soup.find_all('img',{\"class\":\"s-image\"}):\n",
    "    imgsrc=a.get('src')\n",
    "    image_list.append(imgsrc)\n",
    "\n",
    "image_list\n",
    "\n"
   ]
  },
  {
   "cell_type": "code",
   "execution_count": 607,
   "metadata": {},
   "outputs": [
    {
     "data": {
      "text/plain": [
       "['4.2 out of 5 stars',\n",
       " '4.2 out of 5 stars',\n",
       " '4.2 out of 5 stars',\n",
       " '4.2 out of 5 stars',\n",
       " '4.2 out of 5 stars',\n",
       " '4.2 out of 5 stars',\n",
       " '4.2 out of 5 stars',\n",
       " '4.3 out of 5 stars',\n",
       " '4.0 out of 5 stars',\n",
       " '4.2 out of 5 stars']"
      ]
     },
     "execution_count": 607,
     "metadata": {},
     "output_type": "execute_result"
    }
   ],
   "source": [
    "rating=getProduct('https://www.amazon.in/s?k=mobile+under+20000&ref=nb_sb_noss_1','span',\"a-icon-alt\")\n",
    "rating\n",
    "\n"
   ]
  },
  {
   "cell_type": "code",
   "execution_count": 613,
   "metadata": {},
   "outputs": [
    {
     "data": {
      "text/html": [
       "<div>\n",
       "<style scoped>\n",
       "    .dataframe tbody tr th:only-of-type {\n",
       "        vertical-align: middle;\n",
       "    }\n",
       "\n",
       "    .dataframe tbody tr th {\n",
       "        vertical-align: top;\n",
       "    }\n",
       "\n",
       "    .dataframe thead th {\n",
       "        text-align: right;\n",
       "    }\n",
       "</style>\n",
       "<table border=\"1\" class=\"dataframe\">\n",
       "  <thead>\n",
       "    <tr style=\"text-align: right;\">\n",
       "      <th></th>\n",
       "      <th>ProductName</th>\n",
       "      <th>Price</th>\n",
       "      <th>Image Src</th>\n",
       "      <th>Rating</th>\n",
       "    </tr>\n",
       "  </thead>\n",
       "  <tbody>\n",
       "    <tr>\n",
       "      <th>0</th>\n",
       "      <td>Redmi 9 (Sky Blue, 4GB RAM, 64GB Storage)| 500...</td>\n",
       "      <td>₹8,799</td>\n",
       "      <td>https://m.media-amazon.com/images/I/71A9Vo1Bat...</td>\n",
       "      <td>4.2 out of 5 stars</td>\n",
       "    </tr>\n",
       "    <tr>\n",
       "      <th>1</th>\n",
       "      <td>Redmi 9A (Nature Green, 2GB Ram, 32GB Storage)...</td>\n",
       "      <td>₹10,999</td>\n",
       "      <td>https://m.media-amazon.com/images/I/71sxlhYhKW...</td>\n",
       "      <td>4.2 out of 5 stars</td>\n",
       "    </tr>\n",
       "    <tr>\n",
       "      <th>2</th>\n",
       "      <td>Oppo A31 (Mystery Black, 6GB RAM, 128GB Storag...</td>\n",
       "      <td>₹6,799</td>\n",
       "      <td>https://m.media-amazon.com/images/I/71KCwNV6Mu...</td>\n",
       "      <td>4.2 out of 5 stars</td>\n",
       "    </tr>\n",
       "    <tr>\n",
       "      <th>3</th>\n",
       "      <td>Oppo A31 (Fantasy White, 6GB RAM, 128GB Storag...</td>\n",
       "      <td>₹8,499</td>\n",
       "      <td>https://m.media-amazon.com/images/I/61IhTtJUXJ...</td>\n",
       "      <td>4.2 out of 5 stars</td>\n",
       "    </tr>\n",
       "    <tr>\n",
       "      <th>4</th>\n",
       "      <td>Vivo Y91i (Fusion Black, 2GB RAM, 32GB Storage...</td>\n",
       "      <td>₹11,990</td>\n",
       "      <td>https://m.media-amazon.com/images/I/51ZoulFBPG...</td>\n",
       "      <td>4.2 out of 5 stars</td>\n",
       "    </tr>\n",
       "    <tr>\n",
       "      <th>5</th>\n",
       "      <td>Redmi 9A (Midnight Black, 3GB Ram, 32GB Storag...</td>\n",
       "      <td>₹15,990</td>\n",
       "      <td>https://m.media-amazon.com/images/I/71sxlhYhKW...</td>\n",
       "      <td>4.2 out of 5 stars</td>\n",
       "    </tr>\n",
       "    <tr>\n",
       "      <th>6</th>\n",
       "      <td>OPPO A31 (Fantasy White, 4GB RAM, 64GB Storage...</td>\n",
       "      <td>₹11,990</td>\n",
       "      <td>https://m.media-amazon.com/images/I/61IhTtJUXJ...</td>\n",
       "      <td>4.2 out of 5 stars</td>\n",
       "    </tr>\n",
       "    <tr>\n",
       "      <th>7</th>\n",
       "      <td>Samsung Galaxy M31 (Ocean Blue, 6GB RAM, 128GB...</td>\n",
       "      <td>₹15,990</td>\n",
       "      <td>https://m.media-amazon.com/images/I/71-Su4Wr0H...</td>\n",
       "      <td>4.3 out of 5 stars</td>\n",
       "    </tr>\n",
       "    <tr>\n",
       "      <th>8</th>\n",
       "      <td>Samsung Galaxy M12 (Blue,4GB RAM, 64GB Storage...</td>\n",
       "      <td>₹7,490</td>\n",
       "      <td>https://m.media-amazon.com/images/I/71yYaNztZ0...</td>\n",
       "      <td>4.0 out of 5 stars</td>\n",
       "    </tr>\n",
       "    <tr>\n",
       "      <th>9</th>\n",
       "      <td>Redmi 9 Power (Mighty Black, 6GB RAM, 128GB St...</td>\n",
       "      <td>₹9,990</td>\n",
       "      <td>https://m.media-amazon.com/images/I/61LHaUOheh...</td>\n",
       "      <td>4.2 out of 5 stars</td>\n",
       "    </tr>\n",
       "  </tbody>\n",
       "</table>\n",
       "</div>"
      ],
      "text/plain": [
       "                                         ProductName    Price  \\\n",
       "0  Redmi 9 (Sky Blue, 4GB RAM, 64GB Storage)| 500...   ₹8,799   \n",
       "1  Redmi 9A (Nature Green, 2GB Ram, 32GB Storage)...  ₹10,999   \n",
       "2  Oppo A31 (Mystery Black, 6GB RAM, 128GB Storag...   ₹6,799   \n",
       "3  Oppo A31 (Fantasy White, 6GB RAM, 128GB Storag...   ₹8,499   \n",
       "4  Vivo Y91i (Fusion Black, 2GB RAM, 32GB Storage...  ₹11,990   \n",
       "5  Redmi 9A (Midnight Black, 3GB Ram, 32GB Storag...  ₹15,990   \n",
       "6  OPPO A31 (Fantasy White, 4GB RAM, 64GB Storage...  ₹11,990   \n",
       "7  Samsung Galaxy M31 (Ocean Blue, 6GB RAM, 128GB...  ₹15,990   \n",
       "8  Samsung Galaxy M12 (Blue,4GB RAM, 64GB Storage...   ₹7,490   \n",
       "9  Redmi 9 Power (Mighty Black, 6GB RAM, 128GB St...   ₹9,990   \n",
       "\n",
       "                                           Image Src              Rating  \n",
       "0  https://m.media-amazon.com/images/I/71A9Vo1Bat...  4.2 out of 5 stars  \n",
       "1  https://m.media-amazon.com/images/I/71sxlhYhKW...  4.2 out of 5 stars  \n",
       "2  https://m.media-amazon.com/images/I/71KCwNV6Mu...  4.2 out of 5 stars  \n",
       "3  https://m.media-amazon.com/images/I/61IhTtJUXJ...  4.2 out of 5 stars  \n",
       "4  https://m.media-amazon.com/images/I/51ZoulFBPG...  4.2 out of 5 stars  \n",
       "5  https://m.media-amazon.com/images/I/71sxlhYhKW...  4.2 out of 5 stars  \n",
       "6  https://m.media-amazon.com/images/I/61IhTtJUXJ...  4.2 out of 5 stars  \n",
       "7  https://m.media-amazon.com/images/I/71-Su4Wr0H...  4.3 out of 5 stars  \n",
       "8  https://m.media-amazon.com/images/I/71yYaNztZ0...  4.0 out of 5 stars  \n",
       "9  https://m.media-amazon.com/images/I/61LHaUOheh...  4.2 out of 5 stars  "
      ]
     },
     "execution_count": 613,
     "metadata": {},
     "output_type": "execute_result"
    }
   ],
   "source": [
    "import pandas as pd\n",
    "Products=pd.DataFrame({})\n",
    "Products['ProductName']=product1[0:10]\n",
    "Products['Price']=price[0:10]\n",
    "Products['Image Src']=image_list[0:10]\n",
    "Products['Rating']=rating[0:10]\n",
    "Products"
   ]
  },
  {
   "cell_type": "markdown",
   "metadata": {},
   "source": [
    "# Answer No 8"
   ]
  },
  {
   "cell_type": "code",
   "execution_count": 593,
   "metadata": {},
   "outputs": [],
   "source": [
    "def getWeather(url,element,classname):\n",
    "    page=requests.get(url)\n",
    "    soup=BeautifulSoup(page.content)\n",
    "    Detail=soup.find_all(element,classname)\n",
    "    Detail_List=[]\n",
    "    for i in Detail:\n",
    "        Detail_List.append(i.text)\n",
    "    return Detail_List"
   ]
  },
  {
   "cell_type": "code",
   "execution_count": null,
   "metadata": {},
   "outputs": [],
   "source": []
  },
  {
   "cell_type": "code",
   "execution_count": 594,
   "metadata": {},
   "outputs": [
    {
     "data": {
      "text/plain": [
       "['Today',\n",
       " 'Tonight',\n",
       " 'Saturday',\n",
       " 'SaturdayNight',\n",
       " 'Sunday',\n",
       " 'SundayNight',\n",
       " 'Monday',\n",
       " 'MondayNight',\n",
       " 'Tuesday']"
      ]
     },
     "execution_count": 594,
     "metadata": {},
     "output_type": "execute_result"
    }
   ],
   "source": [
    "weather1=getWeather('https://forecast.weather.gov/MapClick.php?lat=37.777120000000025&lon=-122.41963999999996#.YJzf19UzbIU','p','period-name')\n",
    "weather1\n",
    "\n"
   ]
  },
  {
   "cell_type": "code",
   "execution_count": 595,
   "metadata": {},
   "outputs": [
    {
     "data": {
      "text/plain": [
       "['Today',\n",
       " 'Tonight',\n",
       " 'Saturday',\n",
       " 'Saturday Night',\n",
       " 'Sunday',\n",
       " 'Sunday Night',\n",
       " 'Monday',\n",
       " 'Monday Night',\n",
       " 'Tuesday',\n",
       " 'Tuesday Night',\n",
       " 'Wednesday',\n",
       " 'Wednesday Night',\n",
       " 'Thursday']"
      ]
     },
     "execution_count": 595,
     "metadata": {},
     "output_type": "execute_result"
    }
   ],
   "source": [
    "\n",
    "weather2=getWeather('https://forecast.weather.gov/MapClick.php?lat=37.777120000000025&lon=-122.41963999999996#.YJzf19UzbIU','div','col-sm-2 forecast-label')\n",
    "weather2"
   ]
  },
  {
   "cell_type": "code",
   "execution_count": 596,
   "metadata": {},
   "outputs": [
    {
     "data": {
      "text/plain": [
       "['DecreasingClouds',\n",
       " 'PatchyDrizzle',\n",
       " 'PatchyDrizzle thenMostly Sunny',\n",
       " 'Partly Cloudy',\n",
       " 'Mostly Sunny',\n",
       " 'Mostly Cloudy',\n",
       " 'Partly Sunny',\n",
       " 'Partly Cloudy',\n",
       " 'Mostly Sunny']"
      ]
     },
     "execution_count": 596,
     "metadata": {},
     "output_type": "execute_result"
    }
   ],
   "source": [
    "\n",
    "short_desc=getWeather('https://forecast.weather.gov/MapClick.php?lat=37.777120000000025&lon=-122.41963999999996#.YJzf19UzbIU','p','short-desc')\n",
    "short_desc"
   ]
  },
  {
   "cell_type": "code",
   "execution_count": 597,
   "metadata": {},
   "outputs": [
    {
     "data": {
      "text/plain": [
       "['High: 61 °F', 'High: 63 °F', 'High: 64 °F', 'High: 63 °F', 'High: 64 °F']"
      ]
     },
     "execution_count": 597,
     "metadata": {},
     "output_type": "execute_result"
    }
   ],
   "source": [
    "\n",
    "\n",
    "temp_high=getWeather('https://forecast.weather.gov/MapClick.php?lat=37.777120000000025&lon=-122.41963999999996#.YJzf19UzbIU','p','temp temp-high')\n",
    "temp_high"
   ]
  },
  {
   "cell_type": "code",
   "execution_count": 598,
   "metadata": {},
   "outputs": [
    {
     "data": {
      "text/plain": [
       "['Low: 52 °F', 'Low: 52 °F', 'Low: 52 °F', 'Low: 51 °F']"
      ]
     },
     "execution_count": 598,
     "metadata": {},
     "output_type": "execute_result"
    }
   ],
   "source": [
    "\n",
    "\n",
    "temp_low=getWeather('https://forecast.weather.gov/MapClick.php?lat=37.777120000000025&lon=-122.41963999999996#.YJzf19UzbIU','p','temp temp-low')\n",
    "temp_low"
   ]
  },
  {
   "cell_type": "code",
   "execution_count": 599,
   "metadata": {},
   "outputs": [
    {
     "data": {
      "text/plain": [
       "['High: 61 °F',\n",
       " 'Low: 52 °F',\n",
       " 'High: 63 °F',\n",
       " 'Low: 52 °F',\n",
       " 'High: 64 °F',\n",
       " 'Low: 52 °F',\n",
       " 'High: 63 °F',\n",
       " 'Low: 51 °F',\n",
       " 'High: 64 °F']"
      ]
     },
     "execution_count": 599,
     "metadata": {},
     "output_type": "execute_result"
    }
   ],
   "source": [
    "temp=[]\n",
    "for i in range(0,len(temp_low)):\n",
    "    temp.append(temp_high[i])\n",
    "    temp.append(temp_low[i])\n",
    "\n",
    "temp.append(temp_high[4])\n",
    "temp"
   ]
  },
  {
   "cell_type": "code",
   "execution_count": 600,
   "metadata": {},
   "outputs": [
    {
     "name": "stdout",
     "output_type": "stream",
     "text": [
      "13\n"
     ]
    }
   ],
   "source": [
    "\n",
    "\n",
    "Desc=getWeather('https://forecast.weather.gov/MapClick.php?lat=37.777120000000025&lon=-122.41963999999996#.YJzf19UzbIU','div',\"col-sm-10 forecast-text\")\n",
    "Desc\n",
    "print(len(Desc))"
   ]
  },
  {
   "cell_type": "code",
   "execution_count": 601,
   "metadata": {},
   "outputs": [
    {
     "data": {
      "text/html": [
       "<div>\n",
       "<style scoped>\n",
       "    .dataframe tbody tr th:only-of-type {\n",
       "        vertical-align: middle;\n",
       "    }\n",
       "\n",
       "    .dataframe tbody tr th {\n",
       "        vertical-align: top;\n",
       "    }\n",
       "\n",
       "    .dataframe thead th {\n",
       "        text-align: right;\n",
       "    }\n",
       "</style>\n",
       "<table border=\"1\" class=\"dataframe\">\n",
       "  <thead>\n",
       "    <tr style=\"text-align: right;\">\n",
       "      <th></th>\n",
       "      <th>Period</th>\n",
       "      <th>Short Description</th>\n",
       "      <th>Temperature</th>\n",
       "      <th>Description</th>\n",
       "    </tr>\n",
       "  </thead>\n",
       "  <tbody>\n",
       "    <tr>\n",
       "      <th>0</th>\n",
       "      <td>Today</td>\n",
       "      <td>DecreasingClouds</td>\n",
       "      <td>High: 61 °F</td>\n",
       "      <td>Mostly cloudy, then gradually becoming sunny, ...</td>\n",
       "    </tr>\n",
       "    <tr>\n",
       "      <th>1</th>\n",
       "      <td>Tonight</td>\n",
       "      <td>PatchyDrizzle</td>\n",
       "      <td>Low: 52 °F</td>\n",
       "      <td>Patchy drizzle after 11pm.  Increasing clouds,...</td>\n",
       "    </tr>\n",
       "    <tr>\n",
       "      <th>2</th>\n",
       "      <td>Saturday</td>\n",
       "      <td>PatchyDrizzle thenMostly Sunny</td>\n",
       "      <td>High: 63 °F</td>\n",
       "      <td>Patchy drizzle before 11am.  Mostly cloudy, th...</td>\n",
       "    </tr>\n",
       "    <tr>\n",
       "      <th>3</th>\n",
       "      <td>SaturdayNight</td>\n",
       "      <td>Partly Cloudy</td>\n",
       "      <td>Low: 52 °F</td>\n",
       "      <td>Partly cloudy, with a low around 52. West sout...</td>\n",
       "    </tr>\n",
       "    <tr>\n",
       "      <th>4</th>\n",
       "      <td>Sunday</td>\n",
       "      <td>Mostly Sunny</td>\n",
       "      <td>High: 64 °F</td>\n",
       "      <td>Mostly sunny, with a high near 64. Light west ...</td>\n",
       "    </tr>\n",
       "    <tr>\n",
       "      <th>5</th>\n",
       "      <td>SundayNight</td>\n",
       "      <td>Mostly Cloudy</td>\n",
       "      <td>Low: 52 °F</td>\n",
       "      <td>Mostly cloudy, with a low around 52.</td>\n",
       "    </tr>\n",
       "    <tr>\n",
       "      <th>6</th>\n",
       "      <td>Monday</td>\n",
       "      <td>Partly Sunny</td>\n",
       "      <td>High: 63 °F</td>\n",
       "      <td>Partly sunny, with a high near 63.</td>\n",
       "    </tr>\n",
       "    <tr>\n",
       "      <th>7</th>\n",
       "      <td>MondayNight</td>\n",
       "      <td>Partly Cloudy</td>\n",
       "      <td>Low: 51 °F</td>\n",
       "      <td>Partly cloudy, with a low around 51.</td>\n",
       "    </tr>\n",
       "    <tr>\n",
       "      <th>8</th>\n",
       "      <td>Tuesday</td>\n",
       "      <td>Mostly Sunny</td>\n",
       "      <td>High: 64 °F</td>\n",
       "      <td>Mostly sunny, with a high near 64.</td>\n",
       "    </tr>\n",
       "  </tbody>\n",
       "</table>\n",
       "</div>"
      ],
      "text/plain": [
       "          Period               Short Description  Temperature  \\\n",
       "0          Today                DecreasingClouds  High: 61 °F   \n",
       "1        Tonight                   PatchyDrizzle   Low: 52 °F   \n",
       "2       Saturday  PatchyDrizzle thenMostly Sunny  High: 63 °F   \n",
       "3  SaturdayNight                   Partly Cloudy   Low: 52 °F   \n",
       "4         Sunday                    Mostly Sunny  High: 64 °F   \n",
       "5    SundayNight                   Mostly Cloudy   Low: 52 °F   \n",
       "6         Monday                    Partly Sunny  High: 63 °F   \n",
       "7    MondayNight                   Partly Cloudy   Low: 51 °F   \n",
       "8        Tuesday                    Mostly Sunny  High: 64 °F   \n",
       "\n",
       "                                         Description  \n",
       "0  Mostly cloudy, then gradually becoming sunny, ...  \n",
       "1  Patchy drizzle after 11pm.  Increasing clouds,...  \n",
       "2  Patchy drizzle before 11am.  Mostly cloudy, th...  \n",
       "3  Partly cloudy, with a low around 52. West sout...  \n",
       "4  Mostly sunny, with a high near 64. Light west ...  \n",
       "5               Mostly cloudy, with a low around 52.  \n",
       "6                 Partly sunny, with a high near 63.  \n",
       "7               Partly cloudy, with a low around 51.  \n",
       "8                 Mostly sunny, with a high near 64.  "
      ]
     },
     "execution_count": 601,
     "metadata": {},
     "output_type": "execute_result"
    }
   ],
   "source": [
    "import pandas as pd\n",
    "weather_detail=pd.DataFrame({})\n",
    "weather_detail['Period']=weather1\n",
    "weather_detail['Short Description']=short_desc\n",
    "weather_detail['Temperature']=temp\n",
    "weather_detail['Description']=Desc[0:9]\n",
    "weather_detail"
   ]
  },
  {
   "cell_type": "code",
   "execution_count": null,
   "metadata": {},
   "outputs": [],
   "source": []
  },
  {
   "cell_type": "code",
   "execution_count": null,
   "metadata": {},
   "outputs": [],
   "source": []
  },
  {
   "cell_type": "code",
   "execution_count": null,
   "metadata": {},
   "outputs": [],
   "source": []
  },
  {
   "cell_type": "code",
   "execution_count": null,
   "metadata": {},
   "outputs": [],
   "source": []
  },
  {
   "cell_type": "code",
   "execution_count": null,
   "metadata": {},
   "outputs": [],
   "source": []
  },
  {
   "cell_type": "code",
   "execution_count": null,
   "metadata": {},
   "outputs": [],
   "source": []
  },
  {
   "cell_type": "code",
   "execution_count": null,
   "metadata": {},
   "outputs": [],
   "source": []
  },
  {
   "cell_type": "code",
   "execution_count": null,
   "metadata": {},
   "outputs": [],
   "source": []
  },
  {
   "cell_type": "code",
   "execution_count": null,
   "metadata": {},
   "outputs": [],
   "source": []
  },
  {
   "cell_type": "code",
   "execution_count": null,
   "metadata": {},
   "outputs": [],
   "source": []
  },
  {
   "cell_type": "code",
   "execution_count": null,
   "metadata": {},
   "outputs": [],
   "source": []
  },
  {
   "cell_type": "code",
   "execution_count": null,
   "metadata": {},
   "outputs": [],
   "source": []
  },
  {
   "cell_type": "code",
   "execution_count": null,
   "metadata": {},
   "outputs": [],
   "source": []
  },
  {
   "cell_type": "code",
   "execution_count": null,
   "metadata": {},
   "outputs": [],
   "source": []
  },
  {
   "cell_type": "code",
   "execution_count": null,
   "metadata": {},
   "outputs": [],
   "source": []
  },
  {
   "cell_type": "code",
   "execution_count": null,
   "metadata": {},
   "outputs": [],
   "source": []
  },
  {
   "cell_type": "code",
   "execution_count": null,
   "metadata": {},
   "outputs": [],
   "source": []
  },
  {
   "cell_type": "code",
   "execution_count": null,
   "metadata": {},
   "outputs": [],
   "source": []
  },
  {
   "cell_type": "code",
   "execution_count": null,
   "metadata": {},
   "outputs": [],
   "source": []
  },
  {
   "cell_type": "code",
   "execution_count": null,
   "metadata": {},
   "outputs": [],
   "source": []
  },
  {
   "cell_type": "code",
   "execution_count": null,
   "metadata": {},
   "outputs": [],
   "source": []
  },
  {
   "cell_type": "code",
   "execution_count": null,
   "metadata": {},
   "outputs": [],
   "source": []
  },
  {
   "cell_type": "code",
   "execution_count": null,
   "metadata": {},
   "outputs": [],
   "source": []
  },
  {
   "cell_type": "code",
   "execution_count": null,
   "metadata": {},
   "outputs": [],
   "source": []
  },
  {
   "cell_type": "code",
   "execution_count": null,
   "metadata": {},
   "outputs": [],
   "source": []
  },
  {
   "cell_type": "code",
   "execution_count": null,
   "metadata": {},
   "outputs": [],
   "source": []
  },
  {
   "cell_type": "code",
   "execution_count": null,
   "metadata": {},
   "outputs": [],
   "source": []
  },
  {
   "cell_type": "code",
   "execution_count": null,
   "metadata": {},
   "outputs": [],
   "source": []
  },
  {
   "cell_type": "code",
   "execution_count": null,
   "metadata": {},
   "outputs": [],
   "source": []
  },
  {
   "cell_type": "code",
   "execution_count": null,
   "metadata": {},
   "outputs": [],
   "source": []
  },
  {
   "cell_type": "code",
   "execution_count": null,
   "metadata": {},
   "outputs": [],
   "source": []
  },
  {
   "cell_type": "code",
   "execution_count": null,
   "metadata": {},
   "outputs": [],
   "source": []
  },
  {
   "cell_type": "code",
   "execution_count": null,
   "metadata": {},
   "outputs": [],
   "source": []
  },
  {
   "cell_type": "code",
   "execution_count": null,
   "metadata": {},
   "outputs": [],
   "source": []
  },
  {
   "cell_type": "code",
   "execution_count": null,
   "metadata": {},
   "outputs": [],
   "source": []
  },
  {
   "cell_type": "code",
   "execution_count": null,
   "metadata": {},
   "outputs": [],
   "source": []
  },
  {
   "cell_type": "code",
   "execution_count": null,
   "metadata": {},
   "outputs": [],
   "source": []
  },
  {
   "cell_type": "code",
   "execution_count": null,
   "metadata": {},
   "outputs": [],
   "source": []
  },
  {
   "cell_type": "code",
   "execution_count": null,
   "metadata": {},
   "outputs": [],
   "source": []
  },
  {
   "cell_type": "code",
   "execution_count": null,
   "metadata": {},
   "outputs": [],
   "source": []
  },
  {
   "cell_type": "code",
   "execution_count": null,
   "metadata": {},
   "outputs": [],
   "source": []
  },
  {
   "cell_type": "code",
   "execution_count": null,
   "metadata": {},
   "outputs": [],
   "source": []
  },
  {
   "cell_type": "code",
   "execution_count": null,
   "metadata": {},
   "outputs": [],
   "source": []
  },
  {
   "cell_type": "code",
   "execution_count": null,
   "metadata": {},
   "outputs": [],
   "source": []
  },
  {
   "cell_type": "code",
   "execution_count": null,
   "metadata": {},
   "outputs": [],
   "source": []
  },
  {
   "cell_type": "code",
   "execution_count": null,
   "metadata": {},
   "outputs": [],
   "source": []
  },
  {
   "cell_type": "code",
   "execution_count": null,
   "metadata": {},
   "outputs": [],
   "source": []
  },
  {
   "cell_type": "code",
   "execution_count": null,
   "metadata": {},
   "outputs": [],
   "source": []
  },
  {
   "cell_type": "code",
   "execution_count": null,
   "metadata": {},
   "outputs": [],
   "source": []
  },
  {
   "cell_type": "code",
   "execution_count": null,
   "metadata": {},
   "outputs": [],
   "source": []
  },
  {
   "cell_type": "code",
   "execution_count": null,
   "metadata": {},
   "outputs": [],
   "source": []
  },
  {
   "cell_type": "code",
   "execution_count": null,
   "metadata": {},
   "outputs": [],
   "source": []
  },
  {
   "cell_type": "code",
   "execution_count": null,
   "metadata": {},
   "outputs": [],
   "source": []
  },
  {
   "cell_type": "code",
   "execution_count": null,
   "metadata": {},
   "outputs": [],
   "source": []
  },
  {
   "cell_type": "code",
   "execution_count": null,
   "metadata": {},
   "outputs": [],
   "source": []
  },
  {
   "cell_type": "code",
   "execution_count": null,
   "metadata": {},
   "outputs": [],
   "source": []
  },
  {
   "cell_type": "code",
   "execution_count": null,
   "metadata": {},
   "outputs": [],
   "source": []
  },
  {
   "cell_type": "code",
   "execution_count": null,
   "metadata": {},
   "outputs": [],
   "source": []
  },
  {
   "cell_type": "code",
   "execution_count": null,
   "metadata": {},
   "outputs": [],
   "source": []
  },
  {
   "cell_type": "code",
   "execution_count": null,
   "metadata": {},
   "outputs": [],
   "source": []
  },
  {
   "cell_type": "code",
   "execution_count": null,
   "metadata": {},
   "outputs": [],
   "source": []
  },
  {
   "cell_type": "code",
   "execution_count": null,
   "metadata": {},
   "outputs": [],
   "source": []
  },
  {
   "cell_type": "code",
   "execution_count": null,
   "metadata": {},
   "outputs": [],
   "source": []
  },
  {
   "cell_type": "code",
   "execution_count": null,
   "metadata": {},
   "outputs": [],
   "source": []
  },
  {
   "cell_type": "code",
   "execution_count": null,
   "metadata": {},
   "outputs": [],
   "source": []
  },
  {
   "cell_type": "code",
   "execution_count": null,
   "metadata": {},
   "outputs": [],
   "source": []
  },
  {
   "cell_type": "code",
   "execution_count": null,
   "metadata": {},
   "outputs": [],
   "source": []
  },
  {
   "cell_type": "code",
   "execution_count": null,
   "metadata": {},
   "outputs": [],
   "source": []
  },
  {
   "cell_type": "code",
   "execution_count": null,
   "metadata": {},
   "outputs": [],
   "source": []
  },
  {
   "cell_type": "code",
   "execution_count": null,
   "metadata": {},
   "outputs": [],
   "source": []
  },
  {
   "cell_type": "code",
   "execution_count": null,
   "metadata": {},
   "outputs": [],
   "source": []
  },
  {
   "cell_type": "code",
   "execution_count": null,
   "metadata": {},
   "outputs": [],
   "source": []
  },
  {
   "cell_type": "code",
   "execution_count": null,
   "metadata": {},
   "outputs": [],
   "source": []
  },
  {
   "cell_type": "code",
   "execution_count": null,
   "metadata": {},
   "outputs": [],
   "source": []
  },
  {
   "cell_type": "code",
   "execution_count": null,
   "metadata": {},
   "outputs": [],
   "source": []
  },
  {
   "cell_type": "code",
   "execution_count": null,
   "metadata": {},
   "outputs": [],
   "source": []
  },
  {
   "cell_type": "code",
   "execution_count": null,
   "metadata": {},
   "outputs": [],
   "source": []
  },
  {
   "cell_type": "code",
   "execution_count": null,
   "metadata": {},
   "outputs": [],
   "source": []
  },
  {
   "cell_type": "code",
   "execution_count": null,
   "metadata": {},
   "outputs": [],
   "source": []
  },
  {
   "cell_type": "code",
   "execution_count": null,
   "metadata": {},
   "outputs": [],
   "source": []
  },
  {
   "cell_type": "code",
   "execution_count": null,
   "metadata": {},
   "outputs": [],
   "source": []
  },
  {
   "cell_type": "code",
   "execution_count": null,
   "metadata": {},
   "outputs": [],
   "source": []
  },
  {
   "cell_type": "code",
   "execution_count": null,
   "metadata": {},
   "outputs": [],
   "source": []
  },
  {
   "cell_type": "code",
   "execution_count": null,
   "metadata": {},
   "outputs": [],
   "source": []
  },
  {
   "cell_type": "code",
   "execution_count": null,
   "metadata": {},
   "outputs": [],
   "source": []
  },
  {
   "cell_type": "code",
   "execution_count": null,
   "metadata": {},
   "outputs": [],
   "source": []
  },
  {
   "cell_type": "code",
   "execution_count": null,
   "metadata": {},
   "outputs": [],
   "source": []
  },
  {
   "cell_type": "code",
   "execution_count": null,
   "metadata": {},
   "outputs": [],
   "source": []
  },
  {
   "cell_type": "code",
   "execution_count": null,
   "metadata": {},
   "outputs": [],
   "source": []
  },
  {
   "cell_type": "code",
   "execution_count": null,
   "metadata": {},
   "outputs": [],
   "source": []
  },
  {
   "cell_type": "code",
   "execution_count": null,
   "metadata": {},
   "outputs": [],
   "source": []
  },
  {
   "cell_type": "code",
   "execution_count": null,
   "metadata": {},
   "outputs": [],
   "source": []
  },
  {
   "cell_type": "code",
   "execution_count": null,
   "metadata": {},
   "outputs": [],
   "source": []
  },
  {
   "cell_type": "code",
   "execution_count": null,
   "metadata": {},
   "outputs": [],
   "source": []
  },
  {
   "cell_type": "code",
   "execution_count": null,
   "metadata": {},
   "outputs": [],
   "source": []
  }
 ],
 "metadata": {
  "kernelspec": {
   "display_name": "Python 3",
   "language": "python",
   "name": "python3"
  },
  "language_info": {
   "codemirror_mode": {
    "name": "ipython",
    "version": 3
   },
   "file_extension": ".py",
   "mimetype": "text/x-python",
   "name": "python",
   "nbconvert_exporter": "python",
   "pygments_lexer": "ipython3",
   "version": "3.7.4"
  }
 },
 "nbformat": 4,
 "nbformat_minor": 2
}
